{
 "cells": [
  {
   "cell_type": "markdown",
   "metadata": {},
   "source": [
    "## prep"
   ]
  },
  {
   "cell_type": "code",
   "execution_count": 2,
   "metadata": {
    "ExecuteTime": {
     "end_time": "2021-05-07T02:53:53.410631Z",
     "start_time": "2021-05-07T02:53:53.397632Z"
    }
   },
   "outputs": [],
   "source": [
    "import pandas as pd \n",
    "import seaborn as sns\n",
    "import matplotlib.pyplot as plt\n",
    "import pandas as pd\n",
    "import numpy as np\n",
    "import matplotlib.pyplot as plt\n",
    "import seaborn as sns\n",
    "from sklearn.svm import SVC\n",
    "\n",
    "from imblearn.over_sampling import SMOTE\n",
    "from sklearn.model_selection import RandomizedSearchCV\n",
    "from sklearn.preprocessing import StandardScaler\n",
    "from sklearn.model_selection import train_test_split\n",
    "from sklearn.neural_network import MLPClassifier"
   ]
  },
  {
   "cell_type": "code",
   "execution_count": 3,
   "metadata": {
    "ExecuteTime": {
     "end_time": "2021-05-07T02:54:05.976198Z",
     "start_time": "2021-05-07T02:53:56.661534Z"
    }
   },
   "outputs": [],
   "source": [
    "# read orginal file (dfrop max+not P)\n",
    "ori_data = pd.read_excel(\"card transactions.xlsx\", parse_dates=['Date'])\n",
    "ori_data = ori_data.loc[(ori_data[\"Transtype\"]==\"P\")]\n",
    "ori_data = ori_data.loc[(ori_data[\"Amount\"]!=ori_data[\"Amount\"].max())]"
   ]
  },
  {
   "cell_type": "code",
   "execution_count": 4,
   "metadata": {
    "ExecuteTime": {
     "end_time": "2021-05-07T02:54:06.006708Z",
     "start_time": "2021-05-07T02:54:05.992121Z"
    }
   },
   "outputs": [],
   "source": [
    "cardnum = list(ori_data[\"Cardnum\"])"
   ]
  },
  {
   "cell_type": "code",
   "execution_count": 5,
   "metadata": {
    "ExecuteTime": {
     "end_time": "2021-05-07T02:54:06.164857Z",
     "start_time": "2021-05-07T02:54:06.038203Z"
    }
   },
   "outputs": [],
   "source": [
    "# read variables file \n",
    "vars_data = pd.read_csv('after_feature_selection_forward_10.csv', parse_dates=['Date'])"
   ]
  },
  {
   "cell_type": "code",
   "execution_count": 6,
   "metadata": {
    "ExecuteTime": {
     "end_time": "2021-05-07T02:54:06.228167Z",
     "start_time": "2021-05-07T02:54:06.197332Z"
    }
   },
   "outputs": [],
   "source": [
    "vars_data[\"Cardnum\"]=cardnum"
   ]
  },
  {
   "cell_type": "code",
   "execution_count": 7,
   "metadata": {
    "ExecuteTime": {
     "end_time": "2021-05-07T02:54:06.274180Z",
     "start_time": "2021-05-07T02:54:06.259807Z"
    }
   },
   "outputs": [],
   "source": [
    "final = vars_data.copy()"
   ]
  },
  {
   "cell_type": "markdown",
   "metadata": {},
   "source": [
    "## train model"
   ]
  },
  {
   "cell_type": "code",
   "execution_count": 8,
   "metadata": {
    "ExecuteTime": {
     "end_time": "2021-05-07T02:54:06.445516Z",
     "start_time": "2021-05-07T02:54:06.323471Z"
    }
   },
   "outputs": [],
   "source": [
    "data = pd.read_csv('after_feature_selection_forward_10.csv', parse_dates=['Date'])"
   ]
  },
  {
   "cell_type": "code",
   "execution_count": 9,
   "metadata": {
    "ExecuteTime": {
     "end_time": "2021-05-07T02:54:06.523735Z",
     "start_time": "2021-05-07T02:54:06.494469Z"
    }
   },
   "outputs": [],
   "source": [
    "train_test = data[(data.Date >= '2010-01-15') & (data.Date <= '2010-10-31')].drop(columns=['Date'])\n",
    "OOT = data[data.Date > '2010-10-31'].drop(columns=['Date'])"
   ]
  },
  {
   "cell_type": "code",
   "execution_count": 10,
   "metadata": {
    "ExecuteTime": {
     "end_time": "2021-05-07T02:54:06.603718Z",
     "start_time": "2021-05-07T02:54:06.588583Z"
    }
   },
   "outputs": [],
   "source": [
    "X = train_test.drop(columns=['Fraud', 'Amount'])\n",
    "y = train_test['Fraud']\n",
    "X_OOT = OOT.drop(columns=['Fraud', 'Amount'])\n",
    "y_OOT = OOT['Fraud']"
   ]
  },
  {
   "cell_type": "code",
   "execution_count": 24,
   "metadata": {
    "ExecuteTime": {
     "end_time": "2021-05-07T03:11:35.826610Z",
     "start_time": "2021-05-07T03:06:03.844751Z"
    }
   },
   "outputs": [],
   "source": [
    "# Whether you want to resample or not\n",
    "smote_flag = True\n",
    "\n",
    "fdr_scores = pd.DataFrame(index=range(10), columns=['train fdr', 'test fdr', 'oot fdr'])\n",
    "for i in range(10):\n",
    "    # Use your own model and hyperparameters here\n",
    "    model = model = MLPClassifier(hidden_layer_sizes=(20),\n",
    "                      max_iter=400,\n",
    "                      solver='adam',\n",
    "                      activation='relu')\n",
    "    \n",
    "    X_train, X_test, y_train, y_test = train_test_split(X, y, stratify=y)\n",
    "    scaler = StandardScaler()\n",
    "    X_train_scaled = pd.DataFrame(scaler.fit_transform(X_train), columns=X_train.columns)\n",
    "    X_test_scaled = pd.DataFrame(scaler.transform(X_test), columns=X_test.columns)\n",
    "    X_OOT_scaled = pd.DataFrame(scaler.transform(X_OOT), columns=X_OOT.columns)\n",
    "    \n",
    "    #Capped 6\n",
    "    drop_index = ((X_train_scaled >= 6) | (X_train_scaled <= -6)).sum(axis=1)\n",
    "    drop_index = drop_index[drop_index >= 1].index.to_list()\n",
    "    X_train_scaled = X_train_scaled.drop(index=drop_index)\n",
    "    y_train = pd.DataFrame(y_train).iloc[X_train_scaled.index, :]['Fraud']\n",
    "    \n",
    "    if smote_flag:\n",
    "        y_neg_cnt = (y_train == 0).sum()\n",
    "        smote = SMOTE(sampling_strategy={0: y_neg_cnt, 1: int(y_neg_cnt/10)})\n",
    "        X_train_smo, y_train_smo = smote.fit_sample(X_train_scaled, y_train)\n",
    "        model.fit(X_train_smo, y_train_smo)\n",
    "    else:\n",
    "        model.fit(X_train_scaled, y_train)"
   ]
  },
  {
   "cell_type": "code",
   "execution_count": 25,
   "metadata": {
    "ExecuteTime": {
     "end_time": "2021-05-07T03:11:35.968126Z",
     "start_time": "2021-05-07T03:11:35.939771Z"
    }
   },
   "outputs": [],
   "source": [
    "predict_data_scaled = pd.DataFrame(scaler.transform(final.iloc[:,0:10]), columns=final.iloc[:,0:10].columns)"
   ]
  },
  {
   "cell_type": "markdown",
   "metadata": {},
   "source": [
    "## assign fraud score"
   ]
  },
  {
   "cell_type": "code",
   "execution_count": 26,
   "metadata": {
    "ExecuteTime": {
     "end_time": "2021-05-07T03:11:36.157159Z",
     "start_time": "2021-05-07T03:11:36.098363Z"
    }
   },
   "outputs": [],
   "source": [
    "fraud_score = model.predict_proba(predict_data_scaled)[:,1]\n",
    "final['Fraud Score']=fraud_score.round(5)"
   ]
  },
  {
   "cell_type": "code",
   "execution_count": 27,
   "metadata": {
    "ExecuteTime": {
     "end_time": "2021-05-07T03:11:36.298783Z",
     "start_time": "2021-05-07T03:11:36.284819Z"
    }
   },
   "outputs": [
    {
     "data": {
      "text/html": [
       "<div>\n",
       "<style scoped>\n",
       "    .dataframe tbody tr th:only-of-type {\n",
       "        vertical-align: middle;\n",
       "    }\n",
       "\n",
       "    .dataframe tbody tr th {\n",
       "        vertical-align: top;\n",
       "    }\n",
       "\n",
       "    .dataframe thead th {\n",
       "        text-align: right;\n",
       "    }\n",
       "</style>\n",
       "<table border=\"1\" class=\"dataframe\">\n",
       "  <thead>\n",
       "    <tr style=\"text-align: right;\">\n",
       "      <th></th>\n",
       "      <th>total_Amount_card_description_7</th>\n",
       "      <th>total_Amount_card_description_3</th>\n",
       "      <th>max_Amount_card_state_14</th>\n",
       "      <th>total_Amount_Cardnum_3</th>\n",
       "      <th>total_Amount_card_description_1</th>\n",
       "      <th>total_Amount_Cardnum_0</th>\n",
       "      <th>total_Amount_card_description_0</th>\n",
       "      <th>total_Amount_Cardnum_14</th>\n",
       "      <th>max_Amount_card_state_30</th>\n",
       "      <th>max_Amount_Cardnum_3</th>\n",
       "      <th>Date</th>\n",
       "      <th>Fraud</th>\n",
       "      <th>Amount</th>\n",
       "      <th>Cardnum</th>\n",
       "      <th>Fraud Score</th>\n",
       "    </tr>\n",
       "  </thead>\n",
       "  <tbody>\n",
       "    <tr>\n",
       "      <th>0</th>\n",
       "      <td>293.22</td>\n",
       "      <td>293.22</td>\n",
       "      <td>3.67</td>\n",
       "      <td>438.57</td>\n",
       "      <td>293.22</td>\n",
       "      <td>438.57</td>\n",
       "      <td>293.22</td>\n",
       "      <td>438.57</td>\n",
       "      <td>3.67</td>\n",
       "      <td>3.67</td>\n",
       "      <td>2010-01-01</td>\n",
       "      <td>0</td>\n",
       "      <td>3.62</td>\n",
       "      <td>5142190439</td>\n",
       "      <td>0.00179</td>\n",
       "    </tr>\n",
       "    <tr>\n",
       "      <th>1</th>\n",
       "      <td>31.42</td>\n",
       "      <td>31.42</td>\n",
       "      <td>31.42</td>\n",
       "      <td>31.42</td>\n",
       "      <td>31.42</td>\n",
       "      <td>31.42</td>\n",
       "      <td>31.42</td>\n",
       "      <td>31.42</td>\n",
       "      <td>31.42</td>\n",
       "      <td>31.42</td>\n",
       "      <td>2010-01-01</td>\n",
       "      <td>0</td>\n",
       "      <td>31.42</td>\n",
       "      <td>5142183973</td>\n",
       "      <td>0.00170</td>\n",
       "    </tr>\n",
       "    <tr>\n",
       "      <th>2</th>\n",
       "      <td>178.49</td>\n",
       "      <td>178.49</td>\n",
       "      <td>178.49</td>\n",
       "      <td>178.49</td>\n",
       "      <td>178.49</td>\n",
       "      <td>178.49</td>\n",
       "      <td>178.49</td>\n",
       "      <td>178.49</td>\n",
       "      <td>178.49</td>\n",
       "      <td>178.49</td>\n",
       "      <td>2010-01-01</td>\n",
       "      <td>0</td>\n",
       "      <td>178.49</td>\n",
       "      <td>5142131721</td>\n",
       "      <td>0.00344</td>\n",
       "    </tr>\n",
       "    <tr>\n",
       "      <th>3</th>\n",
       "      <td>93.20</td>\n",
       "      <td>93.20</td>\n",
       "      <td>3.80</td>\n",
       "      <td>182.84</td>\n",
       "      <td>93.20</td>\n",
       "      <td>182.84</td>\n",
       "      <td>93.20</td>\n",
       "      <td>182.84</td>\n",
       "      <td>3.80</td>\n",
       "      <td>3.80</td>\n",
       "      <td>2010-01-01</td>\n",
       "      <td>0</td>\n",
       "      <td>3.62</td>\n",
       "      <td>5142148452</td>\n",
       "      <td>0.00135</td>\n",
       "    </tr>\n",
       "    <tr>\n",
       "      <th>4</th>\n",
       "      <td>293.22</td>\n",
       "      <td>293.22</td>\n",
       "      <td>3.67</td>\n",
       "      <td>438.57</td>\n",
       "      <td>293.22</td>\n",
       "      <td>438.57</td>\n",
       "      <td>293.22</td>\n",
       "      <td>438.57</td>\n",
       "      <td>3.67</td>\n",
       "      <td>3.67</td>\n",
       "      <td>2010-01-01</td>\n",
       "      <td>0</td>\n",
       "      <td>3.62</td>\n",
       "      <td>5142190439</td>\n",
       "      <td>0.00179</td>\n",
       "    </tr>\n",
       "  </tbody>\n",
       "</table>\n",
       "</div>"
      ],
      "text/plain": [
       "   total_Amount_card_description_7  total_Amount_card_description_3  \\\n",
       "0                           293.22                           293.22   \n",
       "1                            31.42                            31.42   \n",
       "2                           178.49                           178.49   \n",
       "3                            93.20                            93.20   \n",
       "4                           293.22                           293.22   \n",
       "\n",
       "   max_Amount_card_state_14  total_Amount_Cardnum_3  \\\n",
       "0                      3.67                  438.57   \n",
       "1                     31.42                   31.42   \n",
       "2                    178.49                  178.49   \n",
       "3                      3.80                  182.84   \n",
       "4                      3.67                  438.57   \n",
       "\n",
       "   total_Amount_card_description_1  total_Amount_Cardnum_0  \\\n",
       "0                           293.22                  438.57   \n",
       "1                            31.42                   31.42   \n",
       "2                           178.49                  178.49   \n",
       "3                            93.20                  182.84   \n",
       "4                           293.22                  438.57   \n",
       "\n",
       "   total_Amount_card_description_0  total_Amount_Cardnum_14  \\\n",
       "0                           293.22                   438.57   \n",
       "1                            31.42                    31.42   \n",
       "2                           178.49                   178.49   \n",
       "3                            93.20                   182.84   \n",
       "4                           293.22                   438.57   \n",
       "\n",
       "   max_Amount_card_state_30  max_Amount_Cardnum_3       Date  Fraud  Amount  \\\n",
       "0                      3.67                  3.67 2010-01-01      0    3.62   \n",
       "1                     31.42                 31.42 2010-01-01      0   31.42   \n",
       "2                    178.49                178.49 2010-01-01      0  178.49   \n",
       "3                      3.80                  3.80 2010-01-01      0    3.62   \n",
       "4                      3.67                  3.67 2010-01-01      0    3.62   \n",
       "\n",
       "      Cardnum  Fraud Score  \n",
       "0  5142190439      0.00179  \n",
       "1  5142183973      0.00170  \n",
       "2  5142131721      0.00344  \n",
       "3  5142148452      0.00135  \n",
       "4  5142190439      0.00179  "
      ]
     },
     "execution_count": 27,
     "metadata": {},
     "output_type": "execute_result"
    }
   ],
   "source": [
    "final.head()"
   ]
  },
  {
   "cell_type": "markdown",
   "metadata": {},
   "source": [
    "## plot cardnumber"
   ]
  },
  {
   "cell_type": "code",
   "execution_count": 28,
   "metadata": {
    "ExecuteTime": {
     "end_time": "2021-05-07T03:11:36.424804Z",
     "start_time": "2021-05-07T03:11:36.410484Z"
    }
   },
   "outputs": [
    {
     "data": {
      "text/html": [
       "<div>\n",
       "<style scoped>\n",
       "    .dataframe tbody tr th:only-of-type {\n",
       "        vertical-align: middle;\n",
       "    }\n",
       "\n",
       "    .dataframe tbody tr th {\n",
       "        vertical-align: top;\n",
       "    }\n",
       "\n",
       "    .dataframe thead th {\n",
       "        text-align: right;\n",
       "    }\n",
       "</style>\n",
       "<table border=\"1\" class=\"dataframe\">\n",
       "  <thead>\n",
       "    <tr style=\"text-align: right;\">\n",
       "      <th></th>\n",
       "      <th>Date</th>\n",
       "      <th>Cardnum</th>\n",
       "      <th>Fraud Score</th>\n",
       "      <th>Count</th>\n",
       "    </tr>\n",
       "  </thead>\n",
       "  <tbody>\n",
       "    <tr>\n",
       "      <th>16216</th>\n",
       "      <td>2010-03-07</td>\n",
       "      <td>5142235211</td>\n",
       "      <td>0.10592</td>\n",
       "      <td>1</td>\n",
       "    </tr>\n",
       "    <tr>\n",
       "      <th>16323</th>\n",
       "      <td>2010-03-07</td>\n",
       "      <td>5142235211</td>\n",
       "      <td>0.13628</td>\n",
       "      <td>2</td>\n",
       "    </tr>\n",
       "    <tr>\n",
       "      <th>16568</th>\n",
       "      <td>2010-03-07</td>\n",
       "      <td>5142235211</td>\n",
       "      <td>0.12888</td>\n",
       "      <td>3</td>\n",
       "    </tr>\n",
       "    <tr>\n",
       "      <th>16575</th>\n",
       "      <td>2010-03-07</td>\n",
       "      <td>5142235211</td>\n",
       "      <td>0.10592</td>\n",
       "      <td>4</td>\n",
       "    </tr>\n",
       "    <tr>\n",
       "      <th>16928</th>\n",
       "      <td>2010-03-08</td>\n",
       "      <td>5142235211</td>\n",
       "      <td>0.00194</td>\n",
       "      <td>5</td>\n",
       "    </tr>\n",
       "  </tbody>\n",
       "</table>\n",
       "</div>"
      ],
      "text/plain": [
       "            Date     Cardnum  Fraud Score  Count\n",
       "16216 2010-03-07  5142235211      0.10592      1\n",
       "16323 2010-03-07  5142235211      0.13628      2\n",
       "16568 2010-03-07  5142235211      0.12888      3\n",
       "16575 2010-03-07  5142235211      0.10592      4\n",
       "16928 2010-03-08  5142235211      0.00194      5"
      ]
     },
     "execution_count": 28,
     "metadata": {},
     "output_type": "execute_result"
    }
   ],
   "source": [
    "card = final[[\"Date\",\"Cardnum\",\"Fraud Score\"]].loc[(final[\"Cardnum\"]==5142235211)]\n",
    "card[\"Count\"]=list(range(1, len(card)+1))\n",
    "card.head()"
   ]
  },
  {
   "cell_type": "code",
   "execution_count": 29,
   "metadata": {
    "ExecuteTime": {
     "end_time": "2021-05-07T03:11:36.551451Z",
     "start_time": "2021-05-07T03:11:36.536842Z"
    }
   },
   "outputs": [],
   "source": [
    "cardnum_date = card.loc[card[\"Date\"]>=\"2010-07-01\"].loc[card[\"Date\"]<=\"2010-12-31\"].sort_values(by='Date')"
   ]
  },
  {
   "cell_type": "code",
   "execution_count": 30,
   "metadata": {
    "ExecuteTime": {
     "end_time": "2021-05-07T03:11:36.993303Z",
     "start_time": "2021-05-07T03:11:36.661456Z"
    }
   },
   "outputs": [
    {
     "data": {
      "image/png": "[encoded data removed]",
      "text/plain": [
       "<Figure size 720x360 with 1 Axes>"
      ]
     },
     "metadata": {
      "needs_background": "light"
     },
     "output_type": "display_data"
    }
   ],
   "source": [
    "plt.figure(figsize=(10,5))\n",
    "sns.lineplot(x=cardnum_date[\"Date\"], y=cardnum_date[\"Fraud Score\"], ci=0)\n",
    "plt.title(\"Card number = 5142235211\")\n",
    "plt.savefig(\"cardnum_date.png\", transparent=True)"
   ]
  },
  {
   "cell_type": "code",
   "execution_count": 31,
   "metadata": {
    "ExecuteTime": {
     "end_time": "2021-05-07T03:11:37.271038Z",
     "start_time": "2021-05-07T03:11:37.101907Z"
    }
   },
   "outputs": [
    {
     "data": {
      "image/png": "[encoded data removed]",
      "text/plain": [
       "<Figure size 720x360 with 1 Axes>"
      ]
     },
     "metadata": {
      "needs_background": "light"
     },
     "output_type": "display_data"
    }
   ],
   "source": [
    "plt.figure(figsize=(10,5))\n",
    "sns.lineplot(x=card[\"Count\"], y=card[\"Fraud Score\"])\n",
    "plt.title(\"Card number = 5142235211\")\n",
    "plt.xlabel(\"Transaction Count with this Card Number\")\n",
    "plt.savefig(\"cardnum_count.png\", transparent=True)"
   ]
  },
  {
   "cell_type": "code",
   "execution_count": 19,
   "metadata": {
    "ExecuteTime": {
     "end_time": "2021-05-07T02:59:58.348526Z",
     "start_time": "2021-05-07T02:59:58.320664Z"
    }
   },
   "outputs": [
    {
     "data": {
      "text/html": [
       "<div>\n",
       "<style scoped>\n",
       "    .dataframe tbody tr th:only-of-type {\n",
       "        vertical-align: middle;\n",
       "    }\n",
       "\n",
       "    .dataframe tbody tr th {\n",
       "        vertical-align: top;\n",
       "    }\n",
       "\n",
       "    .dataframe thead th {\n",
       "        text-align: right;\n",
       "    }\n",
       "</style>\n",
       "<table border=\"1\" class=\"dataframe\">\n",
       "  <thead>\n",
       "    <tr style=\"text-align: right;\">\n",
       "      <th></th>\n",
       "      <th>Date</th>\n",
       "      <th>Cardnum</th>\n",
       "      <th>Fraud Score</th>\n",
       "      <th>Count</th>\n",
       "    </tr>\n",
       "  </thead>\n",
       "  <tbody>\n",
       "    <tr>\n",
       "      <th>89082</th>\n",
       "      <td>2010-11-26</td>\n",
       "      <td>5142235211</td>\n",
       "      <td>1.0</td>\n",
       "      <td>87</td>\n",
       "    </tr>\n",
       "    <tr>\n",
       "      <th>89083</th>\n",
       "      <td>2010-11-26</td>\n",
       "      <td>5142235211</td>\n",
       "      <td>1.0</td>\n",
       "      <td>88</td>\n",
       "    </tr>\n",
       "    <tr>\n",
       "      <th>89114</th>\n",
       "      <td>2010-11-26</td>\n",
       "      <td>5142235211</td>\n",
       "      <td>1.0</td>\n",
       "      <td>91</td>\n",
       "    </tr>\n",
       "    <tr>\n",
       "      <th>89117</th>\n",
       "      <td>2010-11-26</td>\n",
       "      <td>5142235211</td>\n",
       "      <td>1.0</td>\n",
       "      <td>92</td>\n",
       "    </tr>\n",
       "    <tr>\n",
       "      <th>89120</th>\n",
       "      <td>2010-11-26</td>\n",
       "      <td>5142235211</td>\n",
       "      <td>1.0</td>\n",
       "      <td>93</td>\n",
       "    </tr>\n",
       "    <tr>\n",
       "      <th>...</th>\n",
       "      <td>...</td>\n",
       "      <td>...</td>\n",
       "      <td>...</td>\n",
       "      <td>...</td>\n",
       "    </tr>\n",
       "    <tr>\n",
       "      <th>89091</th>\n",
       "      <td>2010-11-26</td>\n",
       "      <td>5142235211</td>\n",
       "      <td>0.0</td>\n",
       "      <td>89</td>\n",
       "    </tr>\n",
       "    <tr>\n",
       "      <th>89112</th>\n",
       "      <td>2010-11-26</td>\n",
       "      <td>5142235211</td>\n",
       "      <td>0.0</td>\n",
       "      <td>90</td>\n",
       "    </tr>\n",
       "    <tr>\n",
       "      <th>89129</th>\n",
       "      <td>2010-11-26</td>\n",
       "      <td>5142235211</td>\n",
       "      <td>0.0</td>\n",
       "      <td>96</td>\n",
       "    </tr>\n",
       "    <tr>\n",
       "      <th>89134</th>\n",
       "      <td>2010-11-26</td>\n",
       "      <td>5142235211</td>\n",
       "      <td>0.0</td>\n",
       "      <td>98</td>\n",
       "    </tr>\n",
       "    <tr>\n",
       "      <th>89858</th>\n",
       "      <td>2010-12-01</td>\n",
       "      <td>5142235211</td>\n",
       "      <td>0.0</td>\n",
       "      <td>102</td>\n",
       "    </tr>\n",
       "  </tbody>\n",
       "</table>\n",
       "<p>102 rows × 4 columns</p>\n",
       "</div>"
      ],
      "text/plain": [
       "            Date     Cardnum  Fraud Score  Count\n",
       "89082 2010-11-26  5142235211          1.0     87\n",
       "89083 2010-11-26  5142235211          1.0     88\n",
       "89114 2010-11-26  5142235211          1.0     91\n",
       "89117 2010-11-26  5142235211          1.0     92\n",
       "89120 2010-11-26  5142235211          1.0     93\n",
       "...          ...         ...          ...    ...\n",
       "89091 2010-11-26  5142235211          0.0     89\n",
       "89112 2010-11-26  5142235211          0.0     90\n",
       "89129 2010-11-26  5142235211          0.0     96\n",
       "89134 2010-11-26  5142235211          0.0     98\n",
       "89858 2010-12-01  5142235211          0.0    102\n",
       "\n",
       "[102 rows x 4 columns]"
      ]
     },
     "execution_count": 19,
     "metadata": {},
     "output_type": "execute_result"
    }
   ],
   "source": [
    "card.sort_values(by=[\"Fraud Score\",\"Count\"], ascending=[False,True])"
   ]
  }
 ],
 "metadata": {
  "kernelspec": {
   "display_name": "Python 3",
   "language": "python",
   "name": "python3"
  },
  "language_info": {
   "codemirror_mode": {
    "name": "ipython",
    "version": 3
   },
   "file_extension": ".py",
   "mimetype": "text/x-python",
   "name": "python",
   "nbconvert_exporter": "python",
   "pygments_lexer": "ipython3",
   "version": "3.8.3"
  },
  "toc": {
   "base_numbering": 1,
   "nav_menu": {},
   "number_sections": true,
   "sideBar": true,
   "skip_h1_title": false,
   "title_cell": "Table of Contents",
   "title_sidebar": "Contents",
   "toc_cell": false,
   "toc_position": {},
   "toc_section_display": true,
   "toc_window_display": false
  },
  "varInspector": {
   "cols": {
    "lenName": 16,
    "lenType": 16,
    "lenVar": 40
   },
   "kernels_config": {
    "python": {
     "delete_cmd_postfix": "",
     "delete_cmd_prefix": "del ",
     "library": "var_list.py",
     "varRefreshCmd": "print(var_dic_list())"
    },
    "r": {
     "delete_cmd_postfix": ") ",
     "delete_cmd_prefix": "rm(",
     "library": "var_list.r",
     "varRefreshCmd": "cat(var_dic_list()) "
    }
   },
   "types_to_exclude": [
    "module",
    "function",
    "builtin_function_or_method",
    "instance",
    "_Feature"
   ],
   "window_display": false
  }
 },
 "nbformat": 4,
 "nbformat_minor": 4
}
