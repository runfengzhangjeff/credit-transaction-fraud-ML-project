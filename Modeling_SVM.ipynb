{
  "nbformat": 4,
  "nbformat_minor": 0,
  "metadata": {
    "kernelspec": {
      "display_name": "Python 3",
      "language": "python",
      "name": "python3"
    },
    "language_info": {
      "codemirror_mode": {
        "name": "ipython",
        "version": 3
      },
      "file_extension": ".py",
      "mimetype": "text/x-python",
      "name": "python",
      "nbconvert_exporter": "python",
      "pygments_lexer": "ipython3",
      "version": "3.8.3"
    },
    "varInspector": {
      "cols": {
        "lenName": 16,
        "lenType": 16,
        "lenVar": 40
      },
      "kernels_config": {
        "python": {
          "delete_cmd_postfix": "",
          "delete_cmd_prefix": "del ",
          "library": "var_list.py",
          "varRefreshCmd": "print(var_dic_list())"
        },
        "r": {
          "delete_cmd_postfix": ") ",
          "delete_cmd_prefix": "rm(",
          "library": "var_list.r",
          "varRefreshCmd": "cat(var_dic_list()) "
        }
      },
      "types_to_exclude": [
        "module",
        "function",
        "builtin_function_or_method",
        "instance",
        "_Feature"
      ],
      "window_display": false
    },
    "colab": {
      "name": "Modeling.ipynb",
      "provenance": []
    }
  },
  "cells": [
    {
      "cell_type": "code",
      "metadata": {
        "colab": {
          "base_uri": "https://localhost:8080/"
        },
        "id": "RZV7nVv4eB3r",
        "outputId": "80179380-8ca1-45c3-9c9d-c4dad64aa535"
      },
      "source": [
        "import pandas as pd\n",
        "import numpy as np\n",
        "import matplotlib.pyplot as plt\n",
        "import seaborn as sns\n",
        "from sklearn.svm import SVC\n",
        "from imblearn.over_sampling import SMOTE\n",
        "from sklearn.model_selection import RandomizedSearchCV\n",
        "from sklearn.preprocessing import StandardScaler\n",
        "from sklearn.model_selection import train_test_split\n",
        "from sklearn.metrics import classification_report, confusion_matrix\n",
        "from scipy.stats import uniform\n",
        "from scipy.stats import randint\n",
        "# insert other models you want to use here\n",
        "from sklearn.linear_model import LogisticRegression\n",
        "from lightgbm import LGBMClassifier"
      ],
      "execution_count": null,
      "outputs": [
        {
          "output_type": "stream",
          "text": [
            "/usr/local/lib/python3.7/dist-packages/sklearn/externals/six.py:31: FutureWarning: The module is deprecated in version 0.21 and will be removed in version 0.23 since we've dropped support for Python 2.7. Please rely on the official version of six (https://pypi.org/project/six/).\n",
            "  \"(https://pypi.org/project/six/).\", FutureWarning)\n",
            "/usr/local/lib/python3.7/dist-packages/sklearn/utils/deprecation.py:144: FutureWarning: The sklearn.neighbors.base module is  deprecated in version 0.22 and will be removed in version 0.24. The corresponding classes / functions should instead be imported from sklearn.neighbors. Anything that cannot be imported from sklearn.neighbors is now part of the private API.\n",
            "  warnings.warn(message, FutureWarning)\n"
          ],
          "name": "stderr"
        }
      ]
    },
    {
      "cell_type": "code",
      "metadata": {
        "colab": {
          "base_uri": "https://localhost:8080/"
        },
        "id": "88s1GDuUwQ14",
        "outputId": "8612d417-f345-455b-ee9e-e80cb0bbf5d1"
      },
      "source": [
        "from google.colab import drive\n",
        "drive.mount('/content/drive')"
      ],
      "execution_count": null,
      "outputs": [
        {
          "output_type": "stream",
          "text": [
            "Mounted at /content/drive\n"
          ],
          "name": "stdout"
        }
      ]
    },
    {
      "cell_type": "code",
      "metadata": {
        "id": "q142jn7yeB3z",
        "colab": {
          "base_uri": "https://localhost:8080/",
          "height": 292
        },
        "outputId": "f60f4132-5bd4-446a-c61f-968c992ef2d9"
      },
      "source": [
        "# replace filepath here\n",
        "data = pd.read_csv('/content/drive/MyDrive/Fraud project 3/after_feature_selection_forward_10.csv', parse_dates=['Date'])\n",
        "data.head()"
      ],
      "execution_count": null,
      "outputs": [
        {
          "output_type": "execute_result",
          "data": {
            "text/html": [
              "<div>\n",
              "<style scoped>\n",
              "    .dataframe tbody tr th:only-of-type {\n",
              "        vertical-align: middle;\n",
              "    }\n",
              "\n",
              "    .dataframe tbody tr th {\n",
              "        vertical-align: top;\n",
              "    }\n",
              "\n",
              "    .dataframe thead th {\n",
              "        text-align: right;\n",
              "    }\n",
              "</style>\n",
              "<table border=\"1\" class=\"dataframe\">\n",
              "  <thead>\n",
              "    <tr style=\"text-align: right;\">\n",
              "      <th></th>\n",
              "      <th>total_Amount_card_description_7</th>\n",
              "      <th>total_Amount_card_description_3</th>\n",
              "      <th>max_Amount_card_state_14</th>\n",
              "      <th>total_Amount_Cardnum_3</th>\n",
              "      <th>total_Amount_card_description_1</th>\n",
              "      <th>total_Amount_Cardnum_0</th>\n",
              "      <th>total_Amount_card_description_0</th>\n",
              "      <th>total_Amount_Cardnum_14</th>\n",
              "      <th>max_Amount_card_state_30</th>\n",
              "      <th>max_Amount_Cardnum_3</th>\n",
              "      <th>Date</th>\n",
              "      <th>Fraud</th>\n",
              "      <th>Amount</th>\n",
              "    </tr>\n",
              "  </thead>\n",
              "  <tbody>\n",
              "    <tr>\n",
              "      <th>0</th>\n",
              "      <td>293.22</td>\n",
              "      <td>293.22</td>\n",
              "      <td>3.67</td>\n",
              "      <td>438.57</td>\n",
              "      <td>293.22</td>\n",
              "      <td>438.57</td>\n",
              "      <td>293.22</td>\n",
              "      <td>438.57</td>\n",
              "      <td>3.67</td>\n",
              "      <td>3.67</td>\n",
              "      <td>2010-01-01</td>\n",
              "      <td>0</td>\n",
              "      <td>3.62</td>\n",
              "    </tr>\n",
              "    <tr>\n",
              "      <th>1</th>\n",
              "      <td>31.42</td>\n",
              "      <td>31.42</td>\n",
              "      <td>31.42</td>\n",
              "      <td>31.42</td>\n",
              "      <td>31.42</td>\n",
              "      <td>31.42</td>\n",
              "      <td>31.42</td>\n",
              "      <td>31.42</td>\n",
              "      <td>31.42</td>\n",
              "      <td>31.42</td>\n",
              "      <td>2010-01-01</td>\n",
              "      <td>0</td>\n",
              "      <td>31.42</td>\n",
              "    </tr>\n",
              "    <tr>\n",
              "      <th>2</th>\n",
              "      <td>178.49</td>\n",
              "      <td>178.49</td>\n",
              "      <td>178.49</td>\n",
              "      <td>178.49</td>\n",
              "      <td>178.49</td>\n",
              "      <td>178.49</td>\n",
              "      <td>178.49</td>\n",
              "      <td>178.49</td>\n",
              "      <td>178.49</td>\n",
              "      <td>178.49</td>\n",
              "      <td>2010-01-01</td>\n",
              "      <td>0</td>\n",
              "      <td>178.49</td>\n",
              "    </tr>\n",
              "    <tr>\n",
              "      <th>3</th>\n",
              "      <td>93.20</td>\n",
              "      <td>93.20</td>\n",
              "      <td>3.80</td>\n",
              "      <td>182.84</td>\n",
              "      <td>93.20</td>\n",
              "      <td>182.84</td>\n",
              "      <td>93.20</td>\n",
              "      <td>182.84</td>\n",
              "      <td>3.80</td>\n",
              "      <td>3.80</td>\n",
              "      <td>2010-01-01</td>\n",
              "      <td>0</td>\n",
              "      <td>3.62</td>\n",
              "    </tr>\n",
              "    <tr>\n",
              "      <th>4</th>\n",
              "      <td>293.22</td>\n",
              "      <td>293.22</td>\n",
              "      <td>3.67</td>\n",
              "      <td>438.57</td>\n",
              "      <td>293.22</td>\n",
              "      <td>438.57</td>\n",
              "      <td>293.22</td>\n",
              "      <td>438.57</td>\n",
              "      <td>3.67</td>\n",
              "      <td>3.67</td>\n",
              "      <td>2010-01-01</td>\n",
              "      <td>0</td>\n",
              "      <td>3.62</td>\n",
              "    </tr>\n",
              "  </tbody>\n",
              "</table>\n",
              "</div>"
            ],
            "text/plain": [
              "   total_Amount_card_description_7  ...  Amount\n",
              "0                           293.22  ...    3.62\n",
              "1                            31.42  ...   31.42\n",
              "2                           178.49  ...  178.49\n",
              "3                            93.20  ...    3.62\n",
              "4                           293.22  ...    3.62\n",
              "\n",
              "[5 rows x 13 columns]"
            ]
          },
          "metadata": {
            "tags": []
          },
          "execution_count": 3
        }
      ]
    },
    {
      "cell_type": "code",
      "metadata": {
        "id": "7fZgmPfMeB31"
      },
      "source": [
        "train_test = data[(data.Date >= '2010-01-15') & (data.Date <= '2010-10-31')].drop(columns=['Date'])\n",
        "OOT = data[data.Date > '2010-10-31'].drop(columns=['Date'])"
      ],
      "execution_count": null,
      "outputs": []
    },
    {
      "cell_type": "code",
      "metadata": {
        "id": "s01DyGHeeB32"
      },
      "source": [
        "X = train_test.drop(columns=['Fraud', 'Amount'])\n",
        "y = train_test['Fraud']\n",
        "X_OOT = OOT.drop(columns=['Fraud', 'Amount'])\n",
        "y_OOT = OOT['Fraud']"
      ],
      "execution_count": null,
      "outputs": []
    },
    {
      "cell_type": "code",
      "metadata": {
        "id": "dbCOa0MbeB32"
      },
      "source": [
        "def get_fdr(model, X, y):\n",
        "    y_pred = model.predict_proba(X)[:, 1]\n",
        "    temp = pd.DataFrame({'y': y, 'y_pred': y_pred})\n",
        "    actual_pos = y.sum()\n",
        "    temp = temp.sort_values('y_pred', ascending=False)\n",
        "    target_num = int(temp.shape[0] * 0.03)\n",
        "    temp = temp.iloc[:target_num, :]\n",
        "    detect_pos = temp['y'].sum()\n",
        "    fdr = detect_pos / actual_pos\n",
        "    return fdr"
      ],
      "execution_count": null,
      "outputs": []
    },
    {
      "cell_type": "markdown",
      "metadata": {
        "id": "UOzVTOsZeB32"
      },
      "source": [
        "### Randomized Search"
      ]
    },
    {
      "cell_type": "code",
      "metadata": {
        "id": "XUu8uAqCy_B8"
      },
      "source": [
        "model = SVC(probability=True)\n",
        "model.fit(X, y)\n",
        "predictions = model.predict(X_OOT)\n"
      ],
      "execution_count": null,
      "outputs": []
    },
    {
      "cell_type": "code",
      "metadata": {
        "colab": {
          "base_uri": "https://localhost:8080/"
        },
        "id": "Rhm016jFzynZ",
        "outputId": "0dfb4aaa-bce0-4625-ce1b-df23d2ec9e94"
      },
      "source": [
        "print(classification_report(y_OOT, predictions))"
      ],
      "execution_count": null,
      "outputs": [
        {
          "output_type": "stream",
          "text": [
            "              precision    recall  f1-score   support\n",
            "\n",
            "           0       0.99      0.99      0.99     12248\n",
            "           1       0.18      0.11      0.13       179\n",
            "\n",
            "    accuracy                           0.98     12427\n",
            "   macro avg       0.58      0.55      0.56     12427\n",
            "weighted avg       0.98      0.98      0.98     12427\n",
            "\n"
          ],
          "name": "stdout"
        }
      ]
    },
    {
      "cell_type": "code",
      "metadata": {
        "colab": {
          "base_uri": "https://localhost:8080/"
        },
        "id": "PvtJj6hFKy1P",
        "outputId": "9646e974-4006-49bc-d236-2775803f4ef2"
      },
      "source": [
        "model.predict_proba(X_OOT)"
      ],
      "execution_count": null,
      "outputs": [
        {
          "output_type": "execute_result",
          "data": {
            "text/plain": [
              "array([[0.99351408, 0.00648592],\n",
              "       [0.99350033, 0.00649967],\n",
              "       [0.9935207 , 0.0064793 ],\n",
              "       ...,\n",
              "       [0.9935128 , 0.0064872 ],\n",
              "       [0.9935179 , 0.0064821 ],\n",
              "       [0.99348474, 0.00651526]])"
            ]
          },
          "metadata": {
            "tags": []
          },
          "execution_count": 11
        }
      ]
    },
    {
      "cell_type": "code",
      "metadata": {
        "colab": {
          "base_uri": "https://localhost:8080/"
        },
        "id": "j9k3AX52z2_M",
        "outputId": "d13680cf-3cc1-4512-da0b-15ce9da8b34d"
      },
      "source": [
        "get_fdr(model,X_OOT,y_OOT)"
      ],
      "execution_count": null,
      "outputs": [
        {
          "output_type": "execute_result",
          "data": {
            "text/plain": [
              "0.4022346368715084"
            ]
          },
          "metadata": {
            "tags": []
          },
          "execution_count": 12
        }
      ]
    },
    {
      "cell_type": "code",
      "metadata": {
        "colab": {
          "base_uri": "https://localhost:8080/"
        },
        "id": "YytbKjC8LERi",
        "outputId": "1b49720b-cf5c-46d0-b5c7-39f5b2c0111d"
      },
      "source": [
        "model._gamma"
      ],
      "execution_count": null,
      "outputs": [
        {
          "output_type": "execute_result",
          "data": {
            "text/plain": [
              "5.4140542222494136e-12"
            ]
          },
          "metadata": {
            "tags": []
          },
          "execution_count": 13
        }
      ]
    },
    {
      "cell_type": "code",
      "metadata": {
        "id": "zImNeKiveB33",
        "colab": {
          "base_uri": "https://localhost:8080/"
        },
        "outputId": "e97232de-751d-484e-b126-4ffdcc6ad525"
      },
      "source": [
        "# Example, use your model and hyperparameters\n",
        "lgb = SVC(probability=True)\n",
        "\n",
        "parameters = dict(C=uniform(loc=0.5, scale=1),\n",
        "                     gamma=uniform(loc=0.1/(np.array(X).var()*X.shape[1]), scale=10/(np.array(X).var()*X.shape[1])),\n",
        "                    kernel=['rbf','poly','sigmoid'])\n",
        "\n",
        "scaler = StandardScaler()\n",
        "X_scaled = pd.DataFrame(scaler.fit_transform(X), columns=X.columns)\n",
        "searcher_lgb = RandomizedSearchCV(lgb, parameters, scoring=get_fdr, n_jobs=-1, random_state=0)\n",
        "searcher_lgb.fit(X_scaled, y)\n",
        "\n",
        "print(searcher_lgb.best_params_)\n",
        "print(searcher_lgb.best_score_)"
      ],
      "execution_count": null,
      "outputs": [
        {
          "output_type": "stream",
          "text": [
            "{'C': 1.0820197920751071, 'gamma': 2.9635083440447154e-11, 'kernel': 'rbf'}\n",
            "0.6554248887117134\n"
          ],
          "name": "stdout"
        }
      ]
    },
    {
      "cell_type": "code",
      "metadata": {
        "id": "PSJ8-0k_IpZD"
      },
      "source": [
        "params = searcher_lgb.best_params_"
      ],
      "execution_count": null,
      "outputs": []
    },
    {
      "cell_type": "code",
      "metadata": {
        "colab": {
          "base_uri": "https://localhost:8080/"
        },
        "id": "QVf3iGxyJBpH",
        "outputId": "2f075fcc-3f52-4ec2-c3cd-1be6047709d6"
      },
      "source": [
        "params"
      ],
      "execution_count": null,
      "outputs": [
        {
          "output_type": "execute_result",
          "data": {
            "text/plain": [
              "{'C': 1.0820197920751071, 'gamma': 2.9635083440447154e-11, 'kernel': 'rbf'}"
            ]
          },
          "metadata": {
            "tags": []
          },
          "execution_count": 16
        }
      ]
    },
    {
      "cell_type": "code",
      "metadata": {
        "colab": {
          "base_uri": "https://localhost:8080/"
        },
        "id": "gvFUexKnLodp",
        "outputId": "601708f0-7a20-4f21-896b-a14c240ee5b1"
      },
      "source": [
        "params['probability'] = True\n",
        "params"
      ],
      "execution_count": null,
      "outputs": [
        {
          "output_type": "execute_result",
          "data": {
            "text/plain": [
              "{'C': 1.0820197920751071,\n",
              " 'gamma': 2.9635083440447154e-11,\n",
              " 'kernel': 'rbf',\n",
              " 'probability': True}"
            ]
          },
          "metadata": {
            "tags": []
          },
          "execution_count": 17
        }
      ]
    },
    {
      "cell_type": "code",
      "metadata": {
        "id": "ov6nV76XdfRq"
      },
      "source": [
        "params_1={'C': 1.0820197920751071,\n",
        " 'gamma': 2.9635083440447154e-11,\n",
        " 'kernel': 'rbf',\n",
        " 'probability': True}"
      ],
      "execution_count": null,
      "outputs": []
    },
    {
      "cell_type": "code",
      "metadata": {
        "id": "4WYeWUajds1h"
      },
      "source": [
        "params_2={'C': 0.1,\n",
        " 'gamma': 2.9635083440447154e-10,\n",
        " 'kernel': 'rbf',\n",
        " 'probability': True}"
      ],
      "execution_count": null,
      "outputs": []
    },
    {
      "cell_type": "code",
      "metadata": {
        "id": "1QMnIMyieK5_"
      },
      "source": [
        "params_3={'C': 0.1,\n",
        " 'gamma': 2.9635083440447154e-11,\n",
        " 'kernel': 'rbf',\n",
        " 'probability': True}"
      ],
      "execution_count": null,
      "outputs": []
    },
    {
      "cell_type": "code",
      "metadata": {
        "id": "DKl53v5oeQhp"
      },
      "source": [
        "params_4={'C': 10,\n",
        " 'gamma': 2.9635083440447154e-11,\n",
        " 'kernel': 'rbf',\n",
        " 'probability': True}"
      ],
      "execution_count": null,
      "outputs": []
    },
    {
      "cell_type": "code",
      "metadata": {
        "id": "FS-nPqyBeVO-"
      },
      "source": [
        "params_5={'C': 10,\n",
        " 'gamma': 2.9635083440447154e-10,\n",
        " 'kernel': 'rbf',\n",
        " 'probability': True}"
      ],
      "execution_count": null,
      "outputs": []
    },
    {
      "cell_type": "code",
      "metadata": {
        "id": "v0mGaG5fTrez"
      },
      "source": [
        "params_list=[params_4,params_5]"
      ],
      "execution_count": null,
      "outputs": []
    },
    {
      "cell_type": "markdown",
      "metadata": {
        "id": "wjsVBirceB33"
      },
      "source": [
        "### Modeling"
      ]
    },
    {
      "cell_type": "code",
      "metadata": {
        "id": "Tx4AkDjseB34",
        "colab": {
          "base_uri": "https://localhost:8080/"
        },
        "outputId": "57de390b-3ca3-49dd-c439-88d424135c70"
      },
      "source": [
        "df_list=[]\n",
        "for params in params_list:\n",
        "  # Whether you want to resample or not\n",
        "  smote_flag = True\n",
        "\n",
        "  fdr_scores = pd.DataFrame(index=range(10), columns=['train fdr', 'test fdr', 'oot fdr'])\n",
        "  for i in range(10):\n",
        "      # Use your own model and hyperparameters here\n",
        "      model = SVC(**params)\n",
        "      \n",
        "      X_train, X_test, y_train, y_test = train_test_split(X, y, stratify=y)\n",
        "      scaler = StandardScaler()\n",
        "      X_train_scaled = pd.DataFrame(scaler.fit_transform(X_train), columns=X_train.columns)\n",
        "      X_test_scaled = pd.DataFrame(scaler.transform(X_test), columns=X_test.columns)\n",
        "      X_OOT_scaled = pd.DataFrame(scaler.transform(X_OOT), columns=X_OOT.columns)\n",
        "      \n",
        "      #Capped 6\n",
        "      drop_index = ((X_train_scaled >= 6) | (X_train_scaled <= -6)).sum(axis=1)\n",
        "      drop_index = drop_index[drop_index >= 1].index.to_list()\n",
        "      X_train_scaled = X_train_scaled.drop(index=drop_index)\n",
        "      y_train = pd.DataFrame(y_train).iloc[X_train_scaled.index, :]['Fraud']\n",
        "      \n",
        "      if smote_flag:\n",
        "          y_neg_cnt = (y_train == 0).sum()\n",
        "          smote = SMOTE(sampling_strategy={0: y_neg_cnt, 1: int(y_neg_cnt/10)})\n",
        "          X_train_smo, y_train_smo = smote.fit_sample(X_train_scaled, y_train)\n",
        "          model.fit(X_train_smo, y_train_smo)\n",
        "      else:\n",
        "          model.fit(X_train_scaled, y_train)\n",
        "          \n",
        "      fdr_scores.loc[i, 'train fdr'] = get_fdr(model, X_train_scaled, y_train)\n",
        "      fdr_scores.loc[i, 'test fdr'] = get_fdr(model, X_test_scaled, y_test)\n",
        "      fdr_scores.loc[i, 'oot fdr'] = get_fdr(model, X_OOT_scaled, y_OOT)\n",
        "  print(params,' done')\n",
        "  print(fdr_scores)\n",
        "  df_list.append(fdr_scores)\n"
      ],
      "execution_count": null,
      "outputs": [
        {
          "output_type": "stream",
          "text": [
            "/usr/local/lib/python3.7/dist-packages/sklearn/utils/deprecation.py:87: FutureWarning: Function safe_indexing is deprecated; safe_indexing is deprecated in version 0.22 and will be removed in version 0.24.\n",
            "  warnings.warn(msg, category=FutureWarning)\n",
            "/usr/local/lib/python3.7/dist-packages/sklearn/utils/deprecation.py:87: FutureWarning: Function safe_indexing is deprecated; safe_indexing is deprecated in version 0.22 and will be removed in version 0.24.\n",
            "  warnings.warn(msg, category=FutureWarning)\n",
            "/usr/local/lib/python3.7/dist-packages/sklearn/utils/deprecation.py:87: FutureWarning: Function safe_indexing is deprecated; safe_indexing is deprecated in version 0.22 and will be removed in version 0.24.\n",
            "  warnings.warn(msg, category=FutureWarning)\n",
            "/usr/local/lib/python3.7/dist-packages/sklearn/utils/deprecation.py:87: FutureWarning: Function safe_indexing is deprecated; safe_indexing is deprecated in version 0.22 and will be removed in version 0.24.\n",
            "  warnings.warn(msg, category=FutureWarning)\n",
            "/usr/local/lib/python3.7/dist-packages/sklearn/utils/deprecation.py:87: FutureWarning: Function safe_indexing is deprecated; safe_indexing is deprecated in version 0.22 and will be removed in version 0.24.\n",
            "  warnings.warn(msg, category=FutureWarning)\n",
            "/usr/local/lib/python3.7/dist-packages/sklearn/utils/deprecation.py:87: FutureWarning: Function safe_indexing is deprecated; safe_indexing is deprecated in version 0.22 and will be removed in version 0.24.\n",
            "  warnings.warn(msg, category=FutureWarning)\n",
            "/usr/local/lib/python3.7/dist-packages/sklearn/utils/deprecation.py:87: FutureWarning: Function safe_indexing is deprecated; safe_indexing is deprecated in version 0.22 and will be removed in version 0.24.\n",
            "  warnings.warn(msg, category=FutureWarning)\n",
            "/usr/local/lib/python3.7/dist-packages/sklearn/utils/deprecation.py:87: FutureWarning: Function safe_indexing is deprecated; safe_indexing is deprecated in version 0.22 and will be removed in version 0.24.\n",
            "  warnings.warn(msg, category=FutureWarning)\n",
            "/usr/local/lib/python3.7/dist-packages/sklearn/utils/deprecation.py:87: FutureWarning: Function safe_indexing is deprecated; safe_indexing is deprecated in version 0.22 and will be removed in version 0.24.\n",
            "  warnings.warn(msg, category=FutureWarning)\n",
            "/usr/local/lib/python3.7/dist-packages/sklearn/utils/deprecation.py:87: FutureWarning: Function safe_indexing is deprecated; safe_indexing is deprecated in version 0.22 and will be removed in version 0.24.\n",
            "  warnings.warn(msg, category=FutureWarning)\n"
          ],
          "name": "stderr"
        },
        {
          "output_type": "stream",
          "text": [
            "{'C': 10, 'gamma': 2.9635083440447154e-11, 'kernel': 'rbf', 'probability': True}  done\n",
            "  train fdr  test fdr   oot fdr\n",
            "0  0.521739  0.686636  0.458101\n",
            "1  0.525751  0.631336  0.458101\n",
            "2  0.549474  0.612903  0.458101\n",
            "3  0.540541  0.640553  0.463687\n",
            "4  0.534021  0.672811  0.463687\n",
            "5  0.529412  0.654378  0.458101\n",
            "6  0.536383   0.64977  0.458101\n",
            "7  0.554852  0.599078  0.458101\n",
            "8  0.534591   0.64977  0.458101\n",
            "9  0.531381  0.658986  0.458101\n"
          ],
          "name": "stdout"
        },
        {
          "output_type": "stream",
          "text": [
            "/usr/local/lib/python3.7/dist-packages/sklearn/utils/deprecation.py:87: FutureWarning: Function safe_indexing is deprecated; safe_indexing is deprecated in version 0.22 and will be removed in version 0.24.\n",
            "  warnings.warn(msg, category=FutureWarning)\n",
            "/usr/local/lib/python3.7/dist-packages/sklearn/utils/deprecation.py:87: FutureWarning: Function safe_indexing is deprecated; safe_indexing is deprecated in version 0.22 and will be removed in version 0.24.\n",
            "  warnings.warn(msg, category=FutureWarning)\n",
            "/usr/local/lib/python3.7/dist-packages/sklearn/utils/deprecation.py:87: FutureWarning: Function safe_indexing is deprecated; safe_indexing is deprecated in version 0.22 and will be removed in version 0.24.\n",
            "  warnings.warn(msg, category=FutureWarning)\n",
            "/usr/local/lib/python3.7/dist-packages/sklearn/utils/deprecation.py:87: FutureWarning: Function safe_indexing is deprecated; safe_indexing is deprecated in version 0.22 and will be removed in version 0.24.\n",
            "  warnings.warn(msg, category=FutureWarning)\n",
            "/usr/local/lib/python3.7/dist-packages/sklearn/utils/deprecation.py:87: FutureWarning: Function safe_indexing is deprecated; safe_indexing is deprecated in version 0.22 and will be removed in version 0.24.\n",
            "  warnings.warn(msg, category=FutureWarning)\n",
            "/usr/local/lib/python3.7/dist-packages/sklearn/utils/deprecation.py:87: FutureWarning: Function safe_indexing is deprecated; safe_indexing is deprecated in version 0.22 and will be removed in version 0.24.\n",
            "  warnings.warn(msg, category=FutureWarning)\n",
            "/usr/local/lib/python3.7/dist-packages/sklearn/utils/deprecation.py:87: FutureWarning: Function safe_indexing is deprecated; safe_indexing is deprecated in version 0.22 and will be removed in version 0.24.\n",
            "  warnings.warn(msg, category=FutureWarning)\n",
            "/usr/local/lib/python3.7/dist-packages/sklearn/utils/deprecation.py:87: FutureWarning: Function safe_indexing is deprecated; safe_indexing is deprecated in version 0.22 and will be removed in version 0.24.\n",
            "  warnings.warn(msg, category=FutureWarning)\n",
            "/usr/local/lib/python3.7/dist-packages/sklearn/utils/deprecation.py:87: FutureWarning: Function safe_indexing is deprecated; safe_indexing is deprecated in version 0.22 and will be removed in version 0.24.\n",
            "  warnings.warn(msg, category=FutureWarning)\n",
            "/usr/local/lib/python3.7/dist-packages/sklearn/utils/deprecation.py:87: FutureWarning: Function safe_indexing is deprecated; safe_indexing is deprecated in version 0.22 and will be removed in version 0.24.\n",
            "  warnings.warn(msg, category=FutureWarning)\n"
          ],
          "name": "stderr"
        },
        {
          "output_type": "stream",
          "text": [
            "{'C': 10, 'gamma': 2.9635083440447154e-10, 'kernel': 'rbf', 'probability': True}  done\n",
            "  train fdr  test fdr   oot fdr\n",
            "0  0.544885  0.626728  0.458101\n",
            "1  0.540881  0.631336  0.458101\n",
            "2  0.514768  0.746544  0.452514\n",
            "3  0.523109  0.677419  0.458101\n",
            "4  0.508811  0.654378  0.458101\n",
            "5  0.541152  0.654378  0.458101\n",
            "6   0.57173  0.631336  0.452514\n",
            "7  0.552301  0.612903  0.458101\n",
            "8   0.53112  0.682028  0.458101\n",
            "9  0.535714  0.640553  0.458101\n"
          ],
          "name": "stdout"
        }
      ]
    },
    {
      "cell_type": "code",
      "metadata": {
        "id": "xpTD81ka2riD"
      },
      "source": [
        "from google.colab import files"
      ],
      "execution_count": null,
      "outputs": []
    },
    {
      "cell_type": "code",
      "metadata": {
        "colab": {
          "base_uri": "https://localhost:8080/"
        },
        "id": "Zv1kpGZb2ykH",
        "outputId": "76a879f1-5469-44e0-82d8-3b1b97898c00"
      },
      "source": [
        "j=0\n",
        "for i in df_list:\n",
        "  fname=f'df_{j}.csv'\n",
        "  i.to_csv(fname,index=False)\n",
        "  files.download(fname)\n",
        "  j+=1"
      ],
      "execution_count": null,
      "outputs": [
        {
          "output_type": "display_data",
          "data": {
            "application/javascript": [
              "\n",
              "    async function download(id, filename, size) {\n",
              "      if (!google.colab.kernel.accessAllowed) {\n",
              "        return;\n",
              "      }\n",
              "      const div = document.createElement('div');\n",
              "      const label = document.createElement('label');\n",
              "      label.textContent = `Downloading \"${filename}\": `;\n",
              "      div.appendChild(label);\n",
              "      const progress = document.createElement('progress');\n",
              "      progress.max = size;\n",
              "      div.appendChild(progress);\n",
              "      document.body.appendChild(div);\n",
              "\n",
              "      const buffers = [];\n",
              "      let downloaded = 0;\n",
              "\n",
              "      const channel = await google.colab.kernel.comms.open(id);\n",
              "      // Send a message to notify the kernel that we're ready.\n",
              "      channel.send({})\n",
              "\n",
              "      for await (const message of channel.messages) {\n",
              "        // Send a message to notify the kernel that we're ready.\n",
              "        channel.send({})\n",
              "        if (message.buffers) {\n",
              "          for (const buffer of message.buffers) {\n",
              "            buffers.push(buffer);\n",
              "            downloaded += buffer.byteLength;\n",
              "            progress.value = downloaded;\n",
              "          }\n",
              "        }\n",
              "      }\n",
              "      const blob = new Blob(buffers, {type: 'application/binary'});\n",
              "      const a = document.createElement('a');\n",
              "      a.href = window.URL.createObjectURL(blob);\n",
              "      a.download = filename;\n",
              "      div.appendChild(a);\n",
              "      a.click();\n",
              "      div.remove();\n",
              "    }\n",
              "  "
            ],
            "text/plain": [
              "<IPython.core.display.Javascript object>"
            ]
          },
          "metadata": {
            "tags": []
          }
        },
        {
          "output_type": "display_data",
          "data": {
            "application/javascript": [
              "download(\"download_1d4f9774-0554-43d3-ace7-e030b52d6385\", \"df_0.csv\", 597)"
            ],
            "text/plain": [
              "<IPython.core.display.Javascript object>"
            ]
          },
          "metadata": {
            "tags": []
          }
        },
        {
          "output_type": "display_data",
          "data": {
            "application/javascript": [
              "\n",
              "    async function download(id, filename, size) {\n",
              "      if (!google.colab.kernel.accessAllowed) {\n",
              "        return;\n",
              "      }\n",
              "      const div = document.createElement('div');\n",
              "      const label = document.createElement('label');\n",
              "      label.textContent = `Downloading \"${filename}\": `;\n",
              "      div.appendChild(label);\n",
              "      const progress = document.createElement('progress');\n",
              "      progress.max = size;\n",
              "      div.appendChild(progress);\n",
              "      document.body.appendChild(div);\n",
              "\n",
              "      const buffers = [];\n",
              "      let downloaded = 0;\n",
              "\n",
              "      const channel = await google.colab.kernel.comms.open(id);\n",
              "      // Send a message to notify the kernel that we're ready.\n",
              "      channel.send({})\n",
              "\n",
              "      for await (const message of channel.messages) {\n",
              "        // Send a message to notify the kernel that we're ready.\n",
              "        channel.send({})\n",
              "        if (message.buffers) {\n",
              "          for (const buffer of message.buffers) {\n",
              "            buffers.push(buffer);\n",
              "            downloaded += buffer.byteLength;\n",
              "            progress.value = downloaded;\n",
              "          }\n",
              "        }\n",
              "      }\n",
              "      const blob = new Blob(buffers, {type: 'application/binary'});\n",
              "      const a = document.createElement('a');\n",
              "      a.href = window.URL.createObjectURL(blob);\n",
              "      a.download = filename;\n",
              "      div.appendChild(a);\n",
              "      a.click();\n",
              "      div.remove();\n",
              "    }\n",
              "  "
            ],
            "text/plain": [
              "<IPython.core.display.Javascript object>"
            ]
          },
          "metadata": {
            "tags": []
          }
        },
        {
          "output_type": "display_data",
          "data": {
            "application/javascript": [
              "download(\"download_568e83cc-77e6-4e75-b2c6-0ad3d66b648a\", \"df_1.csv\", 596)"
            ],
            "text/plain": [
              "<IPython.core.display.Javascript object>"
            ]
          },
          "metadata": {
            "tags": []
          }
        }
      ]
    },
    {
      "cell_type": "code",
      "metadata": {
        "colab": {
          "base_uri": "https://localhost:8080/"
        },
        "id": "9gNUQRxCKx1y",
        "outputId": "6164f237-a09b-47ba-fa8b-3031113d8b1d"
      },
      "source": [
        "for i in df_list:\n",
        "  print(i['train fdr'].mean(),i['test fdr'].mean(),i['oot fdr'].mean())\n",
        "  "
      ],
      "execution_count": null,
      "outputs": [
        {
          "output_type": "stream",
          "text": [
            "0.5358143616574076 0.6456221198156682 0.4592178770949721\n",
            "0.5364471523546848 0.6557603686635944 0.45698324022346365\n"
          ],
          "name": "stdout"
        }
      ]
    },
    {
      "cell_type": "code",
      "metadata": {
        "id": "9EEY3ihW2xzM"
      },
      "source": [
        ""
      ],
      "execution_count": null,
      "outputs": []
    }
  ]
}