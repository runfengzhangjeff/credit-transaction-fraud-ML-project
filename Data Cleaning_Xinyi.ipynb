{
 "cells": [
  {
   "cell_type": "code",
   "execution_count": 53,
   "metadata": {},
   "outputs": [],
   "source": [
    "import numpy as np\n",
    "import pandas as pd\n",
    "import matplotlib.pyplot as plt\n",
    "import seaborn as sns"
   ]
  },
  {
   "cell_type": "code",
   "execution_count": 54,
   "metadata": {},
   "outputs": [],
   "source": [
    "data = pd.read_excel('card transactions.xlsx', parse_dates=['Date'])"
   ]
  },
  {
   "cell_type": "code",
   "execution_count": 55,
   "metadata": {},
   "outputs": [
    {
     "data": {
      "text/html": [
       "<div>\n",
       "<style scoped>\n",
       "    .dataframe tbody tr th:only-of-type {\n",
       "        vertical-align: middle;\n",
       "    }\n",
       "\n",
       "    .dataframe tbody tr th {\n",
       "        vertical-align: top;\n",
       "    }\n",
       "\n",
       "    .dataframe thead th {\n",
       "        text-align: right;\n",
       "    }\n",
       "</style>\n",
       "<table border=\"1\" class=\"dataframe\">\n",
       "  <thead>\n",
       "    <tr style=\"text-align: right;\">\n",
       "      <th></th>\n",
       "      <th>Recnum</th>\n",
       "      <th>Cardnum</th>\n",
       "      <th>Date</th>\n",
       "      <th>Merchnum</th>\n",
       "      <th>Merch description</th>\n",
       "      <th>Merch state</th>\n",
       "      <th>Merch zip</th>\n",
       "      <th>Transtype</th>\n",
       "      <th>Amount</th>\n",
       "      <th>Fraud</th>\n",
       "    </tr>\n",
       "  </thead>\n",
       "  <tbody>\n",
       "    <tr>\n",
       "      <th>0</th>\n",
       "      <td>1</td>\n",
       "      <td>5142190439</td>\n",
       "      <td>2010-01-01</td>\n",
       "      <td>5509006296254</td>\n",
       "      <td>FEDEX SHP 12/23/09 AB#</td>\n",
       "      <td>TN</td>\n",
       "      <td>38118.0</td>\n",
       "      <td>P</td>\n",
       "      <td>3.62</td>\n",
       "      <td>0</td>\n",
       "    </tr>\n",
       "    <tr>\n",
       "      <th>1</th>\n",
       "      <td>2</td>\n",
       "      <td>5142183973</td>\n",
       "      <td>2010-01-01</td>\n",
       "      <td>61003026333</td>\n",
       "      <td>SERVICE MERCHANDISE #81</td>\n",
       "      <td>MA</td>\n",
       "      <td>1803.0</td>\n",
       "      <td>P</td>\n",
       "      <td>31.42</td>\n",
       "      <td>0</td>\n",
       "    </tr>\n",
       "    <tr>\n",
       "      <th>2</th>\n",
       "      <td>3</td>\n",
       "      <td>5142131721</td>\n",
       "      <td>2010-01-01</td>\n",
       "      <td>4503082993600</td>\n",
       "      <td>OFFICE DEPOT #191</td>\n",
       "      <td>MD</td>\n",
       "      <td>20706.0</td>\n",
       "      <td>P</td>\n",
       "      <td>178.49</td>\n",
       "      <td>0</td>\n",
       "    </tr>\n",
       "    <tr>\n",
       "      <th>3</th>\n",
       "      <td>4</td>\n",
       "      <td>5142148452</td>\n",
       "      <td>2010-01-01</td>\n",
       "      <td>5509006296254</td>\n",
       "      <td>FEDEX SHP 12/28/09 AB#</td>\n",
       "      <td>TN</td>\n",
       "      <td>38118.0</td>\n",
       "      <td>P</td>\n",
       "      <td>3.62</td>\n",
       "      <td>0</td>\n",
       "    </tr>\n",
       "    <tr>\n",
       "      <th>4</th>\n",
       "      <td>5</td>\n",
       "      <td>5142190439</td>\n",
       "      <td>2010-01-01</td>\n",
       "      <td>5509006296254</td>\n",
       "      <td>FEDEX SHP 12/23/09 AB#</td>\n",
       "      <td>TN</td>\n",
       "      <td>38118.0</td>\n",
       "      <td>P</td>\n",
       "      <td>3.62</td>\n",
       "      <td>0</td>\n",
       "    </tr>\n",
       "  </tbody>\n",
       "</table>\n",
       "</div>"
      ],
      "text/plain": [
       "   Recnum     Cardnum       Date       Merchnum        Merch description  \\\n",
       "0       1  5142190439 2010-01-01  5509006296254   FEDEX SHP 12/23/09 AB#   \n",
       "1       2  5142183973 2010-01-01    61003026333  SERVICE MERCHANDISE #81   \n",
       "2       3  5142131721 2010-01-01  4503082993600        OFFICE DEPOT #191   \n",
       "3       4  5142148452 2010-01-01  5509006296254   FEDEX SHP 12/28/09 AB#   \n",
       "4       5  5142190439 2010-01-01  5509006296254   FEDEX SHP 12/23/09 AB#   \n",
       "\n",
       "  Merch state  Merch zip Transtype  Amount  Fraud  \n",
       "0          TN    38118.0         P    3.62      0  \n",
       "1          MA     1803.0         P   31.42      0  \n",
       "2          MD    20706.0         P  178.49      0  \n",
       "3          TN    38118.0         P    3.62      0  \n",
       "4          TN    38118.0         P    3.62      0  "
      ]
     },
     "execution_count": 55,
     "metadata": {},
     "output_type": "execute_result"
    }
   ],
   "source": [
    "data.head()"
   ]
  },
  {
   "cell_type": "markdown",
   "metadata": {},
   "source": [
    "## Data Cleaning"
   ]
  },
  {
   "cell_type": "markdown",
   "metadata": {
    "heading_collapsed": true
   },
   "source": [
    "### Remove large transaction outliers / All but the P type transactions"
   ]
  },
  {
   "cell_type": "code",
   "execution_count": 56,
   "metadata": {
    "hidden": true
   },
   "outputs": [],
   "source": [
    "data['z_Amount'] = (data['Amount'] - data['Amount'].mean()) / data['Amount'].std()"
   ]
  },
  {
   "cell_type": "code",
   "execution_count": 57,
   "metadata": {
    "hidden": true
   },
   "outputs": [
    {
     "name": "stdout",
     "output_type": "stream",
     "text": [
      "7 1\n",
      "6 1\n",
      "5 1\n",
      "4 2\n",
      "3 2\n",
      "2 27\n",
      "1 72\n"
     ]
    }
   ],
   "source": [
    "for i in range(7, 0, -1):\n",
    "    print(i, (data['z_Amount'] >= i).sum())"
   ]
  },
  {
   "cell_type": "code",
   "execution_count": 58,
   "metadata": {
    "hidden": true
   },
   "outputs": [
    {
     "data": {
      "text/html": [
       "<div>\n",
       "<style scoped>\n",
       "    .dataframe tbody tr th:only-of-type {\n",
       "        vertical-align: middle;\n",
       "    }\n",
       "\n",
       "    .dataframe tbody tr th {\n",
       "        vertical-align: top;\n",
       "    }\n",
       "\n",
       "    .dataframe thead th {\n",
       "        text-align: right;\n",
       "    }\n",
       "</style>\n",
       "<table border=\"1\" class=\"dataframe\">\n",
       "  <thead>\n",
       "    <tr style=\"text-align: right;\">\n",
       "      <th></th>\n",
       "      <th>Recnum</th>\n",
       "      <th>Cardnum</th>\n",
       "      <th>Date</th>\n",
       "      <th>Merchnum</th>\n",
       "      <th>Merch description</th>\n",
       "      <th>Merch state</th>\n",
       "      <th>Merch zip</th>\n",
       "      <th>Transtype</th>\n",
       "      <th>Amount</th>\n",
       "      <th>Fraud</th>\n",
       "      <th>z_Amount</th>\n",
       "    </tr>\n",
       "  </thead>\n",
       "  <tbody>\n",
       "    <tr>\n",
       "      <th>47339</th>\n",
       "      <td>47340</td>\n",
       "      <td>5142275225</td>\n",
       "      <td>2010-06-22</td>\n",
       "      <td>NaN</td>\n",
       "      <td>INTERSOL</td>\n",
       "      <td>NaN</td>\n",
       "      <td>NaN</td>\n",
       "      <td>P</td>\n",
       "      <td>47900.00</td>\n",
       "      <td>0</td>\n",
       "      <td>4.744298</td>\n",
       "    </tr>\n",
       "    <tr>\n",
       "      <th>52714</th>\n",
       "      <td>52715</td>\n",
       "      <td>5142189135</td>\n",
       "      <td>2010-07-13</td>\n",
       "      <td>NaN</td>\n",
       "      <td>INTERMEXICO</td>\n",
       "      <td>NaN</td>\n",
       "      <td>NaN</td>\n",
       "      <td>P</td>\n",
       "      <td>3102045.53</td>\n",
       "      <td>0</td>\n",
       "      <td>309.971433</td>\n",
       "    </tr>\n",
       "  </tbody>\n",
       "</table>\n",
       "</div>"
      ],
      "text/plain": [
       "       Recnum     Cardnum       Date Merchnum Merch description Merch state  \\\n",
       "47339   47340  5142275225 2010-06-22      NaN          INTERSOL         NaN   \n",
       "52714   52715  5142189135 2010-07-13      NaN       INTERMEXICO         NaN   \n",
       "\n",
       "       Merch zip Transtype      Amount  Fraud    z_Amount  \n",
       "47339        NaN         P    47900.00      0    4.744298  \n",
       "52714        NaN         P  3102045.53      0  309.971433  "
      ]
     },
     "execution_count": 58,
     "metadata": {},
     "output_type": "execute_result"
    }
   ],
   "source": [
    "data[data['z_Amount'] >= 4]"
   ]
  },
  {
   "cell_type": "code",
   "execution_count": 59,
   "metadata": {
    "hidden": true
   },
   "outputs": [],
   "source": [
    "# drop outliers with amount that is 4 std away from mean\n",
    "data = data.drop(index=[52714, 47339], columns=['z_Amount'])"
   ]
  },
  {
   "cell_type": "code",
   "execution_count": 60,
   "metadata": {
    "hidden": true
   },
   "outputs": [],
   "source": [
    "data = data[data['Transtype'] == 'P']"
   ]
  },
  {
   "cell_type": "code",
   "execution_count": 61,
   "metadata": {
    "hidden": true
   },
   "outputs": [
    {
     "data": {
      "text/plain": [
       "array(['P'], dtype=object)"
      ]
     },
     "execution_count": 61,
     "metadata": {},
     "output_type": "execute_result"
    }
   ],
   "source": [
    "data.Transtype.unique()"
   ]
  },
  {
   "cell_type": "markdown",
   "metadata": {},
   "source": [
    "### Missing Values"
   ]
  },
  {
   "cell_type": "markdown",
   "metadata": {
    "heading_collapsed": true
   },
   "source": [
    "#### Merch State\n",
    "- About 93% of records with missing state also do not have valid zip code:\n",
    " * For the other 7%, fill the state with the most frequent state within its zip code.\n",
    "- If available, fill it with the last merch state associated with that Merch description, or first state after it.\n",
    "- Fill it with the most frequent Merch state on that day.\n",
    "- Notice that there are strange state names:\n",
    " * Some state are named as numbers.\n",
    " * I will just keep these numbers, because weird records may also be a sign of fraud.\n"
   ]
  },
  {
   "cell_type": "code",
   "execution_count": 62,
   "metadata": {
    "hidden": true
   },
   "outputs": [
    {
     "data": {
      "text/plain": [
       "1019"
      ]
     },
     "execution_count": 62,
     "metadata": {},
     "output_type": "execute_result"
    }
   ],
   "source": [
    "data['Merch state'].isna().sum()"
   ]
  },
  {
   "cell_type": "code",
   "execution_count": 63,
   "metadata": {
    "hidden": true
   },
   "outputs": [],
   "source": [
    "na_state_zip = data[(data['Merch state'].isna()) & (data['Merch zip'].notna())]['Merch zip'].unique()\n",
    "for zipcode in na_state_zip:\n",
    "    temp_df = data[data['Merch zip'] == zipcode]\n",
    "    if temp_df['Merch state'].isna().mean() != 1:\n",
    "        target = temp_df['Merch state'].value_counts().index[0]\n",
    "        data.loc[(data['Merch state'].isna()) & (data['Merch zip'] == zipcode), 'Merch state'] = target"
   ]
  },
  {
   "cell_type": "code",
   "execution_count": 64,
   "metadata": {
    "hidden": true
   },
   "outputs": [
    {
     "data": {
      "text/plain": [
       "999"
      ]
     },
     "execution_count": 64,
     "metadata": {},
     "output_type": "execute_result"
    }
   ],
   "source": [
    "data['Merch state'].isna().sum()"
   ]
  },
  {
   "cell_type": "code",
   "execution_count": 65,
   "metadata": {
    "hidden": true
   },
   "outputs": [],
   "source": [
    "state_na_index = data[data['Merch state'].isna()].index\n",
    "for i in state_na_index:\n",
    "    des = data.loc[i, 'Merch description']\n",
    "    notna_data = data[data['Merch state'].notna()]\n",
    "    before = notna_data.loc[0:i-1, :]\n",
    "    before = before[before['Merch description'] == des]\n",
    "    if len(before) > 0:\n",
    "        target = before.iloc[-1, :]['Merch state']\n",
    "        data.loc[i, 'Merch state'] = target\n",
    "    else:\n",
    "        after = notna_data.loc[i:, :]\n",
    "        after = after[after['Merch description'] == des]\n",
    "        if len(after) > 0:\n",
    "            target = after.iloc[-1, :]['Merch state']\n",
    "            data.loc[i, 'Merch state'] = target"
   ]
  },
  {
   "cell_type": "code",
   "execution_count": 66,
   "metadata": {
    "hidden": true
   },
   "outputs": [
    {
     "data": {
      "text/plain": [
       "334"
      ]
     },
     "execution_count": 66,
     "metadata": {},
     "output_type": "execute_result"
    }
   ],
   "source": [
    "data['Merch state'].isna().sum()"
   ]
  },
  {
   "cell_type": "code",
   "execution_count": 67,
   "metadata": {
    "hidden": true
   },
   "outputs": [],
   "source": [
    "na_state_date = data[data['Merch state'].isna()]['Date'].unique()\n",
    "for date in na_state_date:\n",
    "    temp_df = data[data['Date'] == date]\n",
    "    target = temp_df['Merch state'].value_counts().index[0]\n",
    "    data.loc[(data['Merch state'].isna())&(data['Date'] == date), 'Merch state'] = target"
   ]
  },
  {
   "cell_type": "code",
   "execution_count": 68,
   "metadata": {
    "hidden": true
   },
   "outputs": [
    {
     "data": {
      "text/plain": [
       "0"
      ]
     },
     "execution_count": 68,
     "metadata": {},
     "output_type": "execute_result"
    }
   ],
   "source": [
    "data['Merch state'].isna().sum()"
   ]
  },
  {
   "cell_type": "markdown",
   "metadata": {},
   "source": [
    "#### Merch zip\n",
    "- If available, fill it with the last Merch zip associated with that Merch num, or the first zip after it.\n",
    "- If available, fill it with the last Merch zip associated with that Merch description, or the first zip after it.\n",
    "- Fill it with the most frequent Merch zip within that state.\n",
    "- Notice that there are some strange state:\n",
    " * These may be provinces in Canada.\n",
    " * I will just replace them with the a random zip code of each area that I found online. \n",
    " * There are only 40 records, so this is okay."
   ]
  },
  {
   "cell_type": "code",
   "execution_count": 69,
   "metadata": {},
   "outputs": [
    {
     "data": {
      "text/plain": [
       "4299"
      ]
     },
     "execution_count": 69,
     "metadata": {},
     "output_type": "execute_result"
    }
   ],
   "source": [
    "data['Merch zip'].isna().sum()"
   ]
  },
  {
   "cell_type": "code",
   "execution_count": 70,
   "metadata": {},
   "outputs": [],
   "source": [
    "zip_na_index = data[data['Merch zip'].isna()].index\n",
    "for i in zip_na_index:\n",
    "    num = data.loc[i, 'Merchnum']\n",
    "    notna_data = data[data['Merch zip'].notna()]\n",
    "    before = notna_data.loc[0:i-1, :]\n",
    "    before = before[before['Merchnum'] == num]\n",
    "    if len(before) > 0:\n",
    "        target = before.iloc[-1, :]['Merch zip']\n",
    "        data.loc[i, 'Merch zip'] = target\n",
    "    else:\n",
    "        after = notna_data.loc[i:, :]\n",
    "        after = after[after['Merchnum'] == num]\n",
    "        if len(after) > 0:\n",
    "            target = after.iloc[-1, :]['Merch zip']\n",
    "            data.loc[i, 'Merch zip'] = target"
   ]
  },
  {
   "cell_type": "code",
   "execution_count": 71,
   "metadata": {},
   "outputs": [
    {
     "data": {
      "text/plain": [
       "2439"
      ]
     },
     "execution_count": 71,
     "metadata": {},
     "output_type": "execute_result"
    }
   ],
   "source": [
    "data['Merch zip'].isna().sum()"
   ]
  },
  {
   "cell_type": "code",
   "execution_count": 72,
   "metadata": {},
   "outputs": [],
   "source": [
    "zip_na_index = data[data['Merch zip'].isna()].index\n",
    "for i in zip_na_index:\n",
    "    des = data.loc[i, 'Merch description']\n",
    "    notna_data = data[data['Merch zip'].notna()]\n",
    "    before = notna_data.loc[0:i-1, :]\n",
    "    before = before[before['Merch description'] == des]\n",
    "    if len(before) > 0:\n",
    "        target = before.iloc[-1, :]['Merch zip']\n",
    "        data.loc[i, 'Merch zip'] = target\n",
    "    else:\n",
    "        after = notna_data.loc[i:, :]\n",
    "        after = after[after['Merch description'] ==  des]\n",
    "        if len(after) > 0:\n",
    "            target = after.iloc[-1, :]['Merch zip']\n",
    "            data.loc[i, 'Merch zip'] = target"
   ]
  },
  {
   "cell_type": "code",
   "execution_count": 73,
   "metadata": {},
   "outputs": [
    {
     "data": {
      "text/plain": [
       "1994"
      ]
     },
     "execution_count": 73,
     "metadata": {},
     "output_type": "execute_result"
    }
   ],
   "source": [
    "data['Merch zip'].isna().sum()"
   ]
  },
  {
   "cell_type": "code",
   "execution_count": 74,
   "metadata": {},
   "outputs": [],
   "source": [
    "na_zip_state = data[data['Merch zip'].isna()]['Merch state'].unique()\n",
    "for state in na_zip_state:\n",
    "    temp_df = data[data['Merch state'] == state]\n",
    "    cnt = temp_df['Merch zip'].value_counts()\n",
    "    if len(cnt) > 0:\n",
    "        target = cnt.index[0]\n",
    "        data.loc[(data['Merch zip'].isna())&(data['Merch state'] == state), 'Merch zip'] = target"
   ]
  },
  {
   "cell_type": "code",
   "execution_count": 75,
   "metadata": {},
   "outputs": [
    {
     "data": {
      "text/plain": [
       "40"
      ]
     },
     "execution_count": 75,
     "metadata": {},
     "output_type": "execute_result"
    }
   ],
   "source": [
    "data['Merch zip'].isna().sum()"
   ]
  },
  {
   "cell_type": "code",
   "execution_count": 76,
   "metadata": {},
   "outputs": [
    {
     "data": {
      "text/plain": [
       "array(['BC', 'QC', 'MB', 'NS', 'AB'], dtype=object)"
      ]
     },
     "execution_count": 76,
     "metadata": {},
     "output_type": "execute_result"
    }
   ],
   "source": [
    "# These may be provinces in Canada\n",
    "# I will just replace them with the a random zip code of each area that I found online. \n",
    "# There are only 40 records, so this is okay.\n",
    "# (Notice that these are zip codes of Canada)\n",
    "data[data['Merch zip'].isna()]['Merch state'].unique()"
   ]
  },
  {
   "cell_type": "code",
   "execution_count": 77,
   "metadata": {},
   "outputs": [],
   "source": [
    "mapper = {'BC': 'V5K0A1', 'QC': 'G1A0A2', 'MB': 'R0K0A0', 'NS': 'B3H0A2', 'AB': 'T0A0A0'}"
   ]
  },
  {
   "cell_type": "code",
   "execution_count": 78,
   "metadata": {},
   "outputs": [],
   "source": [
    "states = data[data['Merch zip'].isna()]['Merch state'].unique()\n",
    "for state in states:\n",
    "    data.loc[(data['Merch zip'].isna()) & (data['Merch state'] == state), 'Merch zip'] = mapper[state]"
   ]
  },
  {
   "cell_type": "code",
   "execution_count": 79,
   "metadata": {},
   "outputs": [
    {
     "data": {
      "text/plain": [
       "0"
      ]
     },
     "execution_count": 79,
     "metadata": {},
     "output_type": "execute_result"
    }
   ],
   "source": [
    "data['Merch zip'].isna().sum()"
   ]
  },
  {
   "cell_type": "markdown",
   "metadata": {},
   "source": [
    "#### Merchnum\n",
    "- Merchnum = 0 may also be missing values\n",
    "- If available, fill it with the last Merchnum associated with its description, or the first Merchnum appeared after it.\n",
    "- Generate a new Merchnum for each Merch description (510 new numbers). The longest Merchnum is 13 digit, so I will start from a 14-digit number, 10000000000000."
   ]
  },
  {
   "cell_type": "code",
   "execution_count": 80,
   "metadata": {},
   "outputs": [
    {
     "data": {
      "text/plain": [
       "(53, 10)"
      ]
     },
     "execution_count": 80,
     "metadata": {},
     "output_type": "execute_result"
    }
   ],
   "source": [
    "data[data.Merchnum == '0'].shape"
   ]
  },
  {
   "cell_type": "code",
   "execution_count": 81,
   "metadata": {},
   "outputs": [
    {
     "data": {
      "text/plain": [
       "(0, 10)"
      ]
     },
     "execution_count": 81,
     "metadata": {},
     "output_type": "execute_result"
    }
   ],
   "source": [
    "data['Merchnum'] = data['Merchnum'].replace({'0': np.nan})\n",
    "data[data.Merchnum == '0'].shape"
   ]
  },
  {
   "cell_type": "code",
   "execution_count": 82,
   "metadata": {},
   "outputs": [
    {
     "data": {
      "text/plain": [
       "3250"
      ]
     },
     "execution_count": 82,
     "metadata": {},
     "output_type": "execute_result"
    }
   ],
   "source": [
    "data.Merchnum.isna().sum()"
   ]
  },
  {
   "cell_type": "code",
   "execution_count": 83,
   "metadata": {},
   "outputs": [],
   "source": [
    "merchnum_na_index = data[data.Merchnum.isna()].index\n",
    "for i in merchnum_na_index:\n",
    "    des = data.loc[i, 'Merch description']\n",
    "    notna_data = data[data['Merchnum'].notna()]\n",
    "    before = notna_data.loc[0:i-1, :]\n",
    "    before = before[before['Merch description'] == des]\n",
    "    if len(before) > 0:\n",
    "        target = before.iloc[-1, :]['Merchnum']\n",
    "        data.loc[i, 'Merchnum'] = target\n",
    "    else:\n",
    "        after = notna_data.loc[i:, :]\n",
    "        after = after[after['Merch description'] == des]\n",
    "        if len(after) > 0:\n",
    "            target = after.iloc[-1, :]['Merchnum']\n",
    "            data.loc[i, 'Merchnum'] = target"
   ]
  },
  {
   "cell_type": "code",
   "execution_count": 84,
   "metadata": {},
   "outputs": [
    {
     "data": {
      "text/plain": [
       "2093"
      ]
     },
     "execution_count": 84,
     "metadata": {},
     "output_type": "execute_result"
    }
   ],
   "source": [
    "data.Merchnum.isna().sum()"
   ]
  },
  {
   "cell_type": "code",
   "execution_count": 85,
   "metadata": {},
   "outputs": [],
   "source": [
    "des_list = data[data.Merchnum.isna()]['Merch description'].unique()\n",
    "target = 10000000000000 \n",
    "for des in des_list:\n",
    "    data.loc[(data.Merchnum.isna())&(data['Merch description']==des), 'Merchnum'] = target\n",
    "    target += 1"
   ]
  },
  {
   "cell_type": "code",
   "execution_count": 86,
   "metadata": {},
   "outputs": [
    {
     "data": {
      "text/plain": [
       "0"
      ]
     },
     "execution_count": 86,
     "metadata": {},
     "output_type": "execute_result"
    }
   ],
   "source": [
    "data.Merchnum.isna().sum()"
   ]
  },
  {
   "cell_type": "code",
   "execution_count": 88,
   "metadata": {},
   "outputs": [
    {
     "data": {
      "text/plain": [
       "0"
      ]
     },
     "execution_count": 88,
     "metadata": {},
     "output_type": "execute_result"
    }
   ],
   "source": [
    "data.isna().sum().sum()"
   ]
  },
  {
   "cell_type": "code",
   "execution_count": 89,
   "metadata": {},
   "outputs": [],
   "source": [
    "# data.to_csv('cleaned_data.csv', index=False)"
   ]
  }
 ],
 "metadata": {
  "kernelspec": {
   "display_name": "Python 3",
   "language": "python",
   "name": "python3"
  },
  "language_info": {
   "codemirror_mode": {
    "name": "ipython",
    "version": 3
   },
   "file_extension": ".py",
   "mimetype": "text/x-python",
   "name": "python",
   "nbconvert_exporter": "python",
   "pygments_lexer": "ipython3",
   "version": "3.8.3"
  },
  "varInspector": {
   "cols": {
    "lenName": 16,
    "lenType": 16,
    "lenVar": 40
   },
   "kernels_config": {
    "python": {
     "delete_cmd_postfix": "",
     "delete_cmd_prefix": "del ",
     "library": "var_list.py",
     "varRefreshCmd": "print(var_dic_list())"
    },
    "r": {
     "delete_cmd_postfix": ") ",
     "delete_cmd_prefix": "rm(",
     "library": "var_list.r",
     "varRefreshCmd": "cat(var_dic_list()) "
    }
   },
   "types_to_exclude": [
    "module",
    "function",
    "builtin_function_or_method",
    "instance",
    "_Feature"
   ],
   "window_display": false
  }
 },
 "nbformat": 4,
 "nbformat_minor": 4
}
