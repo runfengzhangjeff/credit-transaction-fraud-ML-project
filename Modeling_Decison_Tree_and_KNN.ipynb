{
 "cells": [
  {
   "cell_type": "code",
   "execution_count": 1,
   "metadata": {},
   "outputs": [],
   "source": [
    "import pandas as pd\n",
    "import numpy as np\n",
    "import matplotlib.pyplot as plt\n",
    "import seaborn as sns\n",
    "\n",
    "from imblearn.over_sampling import SMOTE\n",
    "from sklearn.model_selection import RandomizedSearchCV\n",
    "from sklearn.preprocessing import StandardScaler\n",
    "from sklearn.model_selection import train_test_split\n",
    "\n",
    "# insert other models you want to use here\n",
    "from sklearn.linear_model import LogisticRegression\n",
    "from lightgbm import LGBMClassifier\n",
    "from sklearn.tree import DecisionTreeClassifier\n",
    "from sklearn.neighbors import KNeighborsClassifier\n",
    "from sklearn.neural_network import MLPClassifier\n",
    "from sklearn.ensemble import RandomForestClassifier"
   ]
  },
  {
   "cell_type": "code",
   "execution_count": 2,
   "metadata": {},
   "outputs": [
    {
     "data": {
      "text/html": [
       "<div>\n",
       "<style scoped>\n",
       "    .dataframe tbody tr th:only-of-type {\n",
       "        vertical-align: middle;\n",
       "    }\n",
       "\n",
       "    .dataframe tbody tr th {\n",
       "        vertical-align: top;\n",
       "    }\n",
       "\n",
       "    .dataframe thead th {\n",
       "        text-align: right;\n",
       "    }\n",
       "</style>\n",
       "<table border=\"1\" class=\"dataframe\">\n",
       "  <thead>\n",
       "    <tr style=\"text-align: right;\">\n",
       "      <th></th>\n",
       "      <th>total_Amount_card_description_7</th>\n",
       "      <th>total_Amount_card_description_3</th>\n",
       "      <th>max_Amount_card_state_14</th>\n",
       "      <th>total_Amount_Cardnum_3</th>\n",
       "      <th>total_Amount_card_description_1</th>\n",
       "      <th>total_Amount_Cardnum_0</th>\n",
       "      <th>total_Amount_card_description_0</th>\n",
       "      <th>total_Amount_Cardnum_14</th>\n",
       "      <th>max_Amount_card_state_30</th>\n",
       "      <th>max_Amount_Cardnum_3</th>\n",
       "      <th>Date</th>\n",
       "      <th>Fraud</th>\n",
       "      <th>Amount</th>\n",
       "    </tr>\n",
       "  </thead>\n",
       "  <tbody>\n",
       "    <tr>\n",
       "      <th>0</th>\n",
       "      <td>293.22</td>\n",
       "      <td>293.22</td>\n",
       "      <td>3.67</td>\n",
       "      <td>438.57</td>\n",
       "      <td>293.22</td>\n",
       "      <td>438.57</td>\n",
       "      <td>293.22</td>\n",
       "      <td>438.57</td>\n",
       "      <td>3.67</td>\n",
       "      <td>3.67</td>\n",
       "      <td>2010-01-01</td>\n",
       "      <td>0</td>\n",
       "      <td>3.62</td>\n",
       "    </tr>\n",
       "    <tr>\n",
       "      <th>1</th>\n",
       "      <td>31.42</td>\n",
       "      <td>31.42</td>\n",
       "      <td>31.42</td>\n",
       "      <td>31.42</td>\n",
       "      <td>31.42</td>\n",
       "      <td>31.42</td>\n",
       "      <td>31.42</td>\n",
       "      <td>31.42</td>\n",
       "      <td>31.42</td>\n",
       "      <td>31.42</td>\n",
       "      <td>2010-01-01</td>\n",
       "      <td>0</td>\n",
       "      <td>31.42</td>\n",
       "    </tr>\n",
       "    <tr>\n",
       "      <th>2</th>\n",
       "      <td>178.49</td>\n",
       "      <td>178.49</td>\n",
       "      <td>178.49</td>\n",
       "      <td>178.49</td>\n",
       "      <td>178.49</td>\n",
       "      <td>178.49</td>\n",
       "      <td>178.49</td>\n",
       "      <td>178.49</td>\n",
       "      <td>178.49</td>\n",
       "      <td>178.49</td>\n",
       "      <td>2010-01-01</td>\n",
       "      <td>0</td>\n",
       "      <td>178.49</td>\n",
       "    </tr>\n",
       "    <tr>\n",
       "      <th>3</th>\n",
       "      <td>93.20</td>\n",
       "      <td>93.20</td>\n",
       "      <td>3.80</td>\n",
       "      <td>182.84</td>\n",
       "      <td>93.20</td>\n",
       "      <td>182.84</td>\n",
       "      <td>93.20</td>\n",
       "      <td>182.84</td>\n",
       "      <td>3.80</td>\n",
       "      <td>3.80</td>\n",
       "      <td>2010-01-01</td>\n",
       "      <td>0</td>\n",
       "      <td>3.62</td>\n",
       "    </tr>\n",
       "    <tr>\n",
       "      <th>4</th>\n",
       "      <td>293.22</td>\n",
       "      <td>293.22</td>\n",
       "      <td>3.67</td>\n",
       "      <td>438.57</td>\n",
       "      <td>293.22</td>\n",
       "      <td>438.57</td>\n",
       "      <td>293.22</td>\n",
       "      <td>438.57</td>\n",
       "      <td>3.67</td>\n",
       "      <td>3.67</td>\n",
       "      <td>2010-01-01</td>\n",
       "      <td>0</td>\n",
       "      <td>3.62</td>\n",
       "    </tr>\n",
       "  </tbody>\n",
       "</table>\n",
       "</div>"
      ],
      "text/plain": [
       "   total_Amount_card_description_7  total_Amount_card_description_3  \\\n",
       "0                           293.22                           293.22   \n",
       "1                            31.42                            31.42   \n",
       "2                           178.49                           178.49   \n",
       "3                            93.20                            93.20   \n",
       "4                           293.22                           293.22   \n",
       "\n",
       "   max_Amount_card_state_14  total_Amount_Cardnum_3  \\\n",
       "0                      3.67                  438.57   \n",
       "1                     31.42                   31.42   \n",
       "2                    178.49                  178.49   \n",
       "3                      3.80                  182.84   \n",
       "4                      3.67                  438.57   \n",
       "\n",
       "   total_Amount_card_description_1  total_Amount_Cardnum_0  \\\n",
       "0                           293.22                  438.57   \n",
       "1                            31.42                   31.42   \n",
       "2                           178.49                  178.49   \n",
       "3                            93.20                  182.84   \n",
       "4                           293.22                  438.57   \n",
       "\n",
       "   total_Amount_card_description_0  total_Amount_Cardnum_14  \\\n",
       "0                           293.22                   438.57   \n",
       "1                            31.42                    31.42   \n",
       "2                           178.49                   178.49   \n",
       "3                            93.20                   182.84   \n",
       "4                           293.22                   438.57   \n",
       "\n",
       "   max_Amount_card_state_30  max_Amount_Cardnum_3       Date  Fraud  Amount  \n",
       "0                      3.67                  3.67 2010-01-01      0    3.62  \n",
       "1                     31.42                 31.42 2010-01-01      0   31.42  \n",
       "2                    178.49                178.49 2010-01-01      0  178.49  \n",
       "3                      3.80                  3.80 2010-01-01      0    3.62  \n",
       "4                      3.67                  3.67 2010-01-01      0    3.62  "
      ]
     },
     "execution_count": 2,
     "metadata": {},
     "output_type": "execute_result"
    }
   ],
   "source": [
    "# replace filepath here\n",
    "data = pd.read_csv('after_feature_selection_forward_10.csv', parse_dates=['Date'])\n",
    "data.head()"
   ]
  },
  {
   "cell_type": "code",
   "execution_count": 3,
   "metadata": {},
   "outputs": [
    {
     "data": {
      "text/plain": [
       "(96397, 13)"
      ]
     },
     "execution_count": 3,
     "metadata": {},
     "output_type": "execute_result"
    }
   ],
   "source": [
    "data.shape"
   ]
  },
  {
   "cell_type": "code",
   "execution_count": 4,
   "metadata": {},
   "outputs": [],
   "source": [
    "train_test = data[(data.Date >= '2010-01-15') & (data.Date <= '2010-10-31')].drop(columns=['Date'])\n",
    "OOT = data[data.Date > '2010-10-31'].drop(columns=['Date'])"
   ]
  },
  {
   "cell_type": "code",
   "execution_count": 5,
   "metadata": {},
   "outputs": [],
   "source": [
    "X = train_test.drop(columns=['Fraud', 'Amount'])\n",
    "y = train_test['Fraud']\n",
    "X_OOT = OOT.drop(columns=['Fraud', 'Amount'])\n",
    "y_OOT = OOT['Fraud']"
   ]
  },
  {
   "cell_type": "code",
   "execution_count": 6,
   "metadata": {},
   "outputs": [],
   "source": [
    "def get_fdr(model, X, y):\n",
    "    y_pred = model.predict_proba(X)[:, 1]\n",
    "    temp = pd.DataFrame({'y': y, 'y_pred': y_pred})\n",
    "    actual_pos = y.sum()\n",
    "    temp = temp.sort_values('y_pred', ascending=False)\n",
    "    target_num = int(temp.shape[0] * 0.03)\n",
    "    temp = temp.iloc[:target_num, :]\n",
    "    detect_pos = temp['y'].sum()\n",
    "    fdr = detect_pos / actual_pos\n",
    "    return fdr"
   ]
  },
  {
   "cell_type": "code",
   "execution_count": 7,
   "metadata": {},
   "outputs": [
    {
     "data": {
      "text/plain": [
       "(12427, 10)"
      ]
     },
     "execution_count": 7,
     "metadata": {},
     "output_type": "execute_result"
    }
   ],
   "source": [
    "X_OOT.shape"
   ]
  },
  {
   "cell_type": "markdown",
   "metadata": {},
   "source": [
    "### Randomized Search"
   ]
  },
  {
   "cell_type": "code",
   "execution_count": 8,
   "metadata": {},
   "outputs": [
    {
     "name": "stdout",
     "output_type": "stream",
     "text": [
      "{'splitter': 'random', 'min_samples_split': 10, 'min_samples_leaf': 30, 'max_leaf_nodes': None, 'max_features': None, 'max_depth': 40, 'criterion': 'gini'}\n",
      "0.6285084202085005\n"
     ]
    }
   ],
   "source": [
    "# use your model and hyperparameters\n",
    "\n",
    "# decision tree\n",
    "dt = DecisionTreeClassifier()\n",
    "\n",
    "# knn\n",
    "knn = KNeighborsClassifier()\n",
    "\n",
    "# decision tree\n",
    "parameters_dt = {'max_features': ['auto',None,'log2'],\n",
    "              'criterion': ['gini','entropy'],\n",
    "              'splitter':['best','random'],\n",
    "              'max_depth': range(5,100,5),\n",
    "              'min_samples_split': [10,20] ,\n",
    "              'min_samples_leaf': [10,15,20,30,40,50,60,70],\n",
    "              'max_leaf_nodes': [None,10,20]}\n",
    "\n",
    "# knn\n",
    "parameters_knn = {'n_neighbors': range(1,11,1),\n",
    "              'weights': ['uniform','distance'],\n",
    "              'algorithm':['auto','ball_tree','kd_tree','brute'],\n",
    "              'leaf_size': range(20,60,5),\n",
    "              'p': [1,2] ,\n",
    "              'metric': ['euclidean','manhattan','chebyshev','minkowski','wminkowski','seuclidean',\n",
    "                         'mahalanobis']}\n",
    "\n",
    "scaler = StandardScaler()\n",
    "X_scaled = pd.DataFrame(scaler.fit_transform(X), columns=X.columns)\n",
    "searcher = RandomizedSearchCV(dt, parameters_dt, scoring=get_fdr, n_jobs=1, cv=10)\n",
    "searcher.fit(X_scaled, y)\n",
    "\n",
    "print(searcher.best_params_)\n",
    "print(searcher.best_score_)"
   ]
  },
  {
   "cell_type": "markdown",
   "metadata": {},
   "source": [
    "### Modeling"
   ]
  },
  {
   "cell_type": "markdown",
   "metadata": {},
   "source": [
    "## KNN"
   ]
  },
  {
   "cell_type": "code",
   "execution_count": null,
   "metadata": {},
   "outputs": [],
   "source": [
    "%%time\n",
    "# Whether you want to resample or not\n",
    "smote_flag = True\n",
    "\n",
    "fdr_scores = pd.DataFrame(index=range(10), columns=['train fdr', 'test fdr', 'oot fdr'])\n",
    "\n",
    "for m in ['euclidean','manhattan','chebyshev','minkowski','wminkowski','seuclidean',\n",
    "                         'mahalanobis']:\n",
    "    for k in range(9,21):\n",
    "        for i in range(10):\n",
    "            # Use your own model and hyperparameters here\n",
    "\n",
    "            model = KNeighborsClassifier(n_neighbors=k,weights='uniform',metric=m)\n",
    "\n",
    "            X_train, X_test, y_train, y_test = train_test_split(X, y, stratify=y)\n",
    "            scaler = StandardScaler()\n",
    "            X_train_scaled = pd.DataFrame(scaler.fit_transform(X_train), columns=X_train.columns)\n",
    "            X_test_scaled = pd.DataFrame(scaler.transform(X_test), columns=X_test.columns)\n",
    "            X_OOT_scaled = pd.DataFrame(scaler.transform(X_OOT), columns=X_OOT.columns)\n",
    "\n",
    "            #Capped 6\n",
    "            drop_index = ((X_train_scaled >= 6) | (X_train_scaled <= -6)).sum(axis=1)\n",
    "            drop_index = drop_index[drop_index >= 1].index.to_list()\n",
    "            X_train_scaled = X_train_scaled.drop(index=drop_index)\n",
    "            y_train = pd.DataFrame(y_train).iloc[X_train_scaled.index, :]['Fraud']\n",
    "\n",
    "            if smote_flag:\n",
    "                y_neg_cnt = (y_train == 0).sum()\n",
    "                smote = SMOTE(sampling_strategy={0: y_neg_cnt, 1: int(y_neg_cnt/10)})\n",
    "                X_train_smo, y_train_smo = smote.fit_sample(X_train_scaled, y_train)\n",
    "                model.fit(X_train_smo, y_train_smo)\n",
    "            else:\n",
    "                model.fit(X_train_scaled, y_train)\n",
    "\n",
    "            fdr_scores.loc[i, 'train fdr'] = get_fdr(model, X_train_scaled, y_train)\n",
    "            fdr_scores.loc[i, 'test fdr'] = get_fdr(model, X_test_scaled, y_test)\n",
    "            fdr_scores.loc[i, 'oot fdr'] = get_fdr(model, X_OOT_scaled, y_OOT)\n",
    "\n",
    "        print(fdr_scores.mean(),k,m)"
   ]
  },
  {
   "cell_type": "markdown",
   "metadata": {},
   "source": [
    "## DT"
   ]
  },
  {
   "cell_type": "code",
   "execution_count": 16,
   "metadata": {},
   "outputs": [
    {
     "name": "stdout",
     "output_type": "stream",
     "text": [
      "train fdr    0.622669\n",
      "test fdr     0.703226\n",
      "oot fdr      0.424581\n",
      "dtype: float64\n",
      "CPU times: user 1.38 s, sys: 95.2 ms, total: 1.48 s\n",
      "Wall time: 1.48 s\n"
     ]
    }
   ],
   "source": [
    "%%time\n",
    "# Whether you want to resample or not\n",
    "smote_flag = True\n",
    "\n",
    "fdr_scores = pd.DataFrame(index=range(10), columns=['train fdr', 'test fdr', 'oot fdr'])\n",
    "for i in range(10):\n",
    "    # Use your own model and hyperparameters here\n",
    "\n",
    "    model = DecisionTreeClassifier(criterion='gini',splitter='best',max_depth=10, max_leaf_nodes=10,min_samples_leaf=30,\n",
    "                                   max_features='auto',min_samples_split=20\n",
    "                                  )\n",
    "\n",
    "    X_train, X_test, y_train, y_test = train_test_split(X, y, stratify=y)\n",
    "    scaler = StandardScaler()\n",
    "    X_train_scaled = pd.DataFrame(scaler.fit_transform(X_train), columns=X_train.columns)\n",
    "    X_test_scaled = pd.DataFrame(scaler.transform(X_test), columns=X_test.columns)\n",
    "    X_OOT_scaled = pd.DataFrame(scaler.transform(X_OOT), columns=X_OOT.columns)\n",
    "\n",
    "    #Capped 6\n",
    "    drop_index = ((X_train_scaled >= 6) | (X_train_scaled <= -6)).sum(axis=1)\n",
    "    drop_index = drop_index[drop_index >= 1].index.to_list()\n",
    "    X_train_scaled = X_train_scaled.drop(index=drop_index)\n",
    "    y_train = pd.DataFrame(y_train).iloc[X_train_scaled.index, :]['Fraud']\n",
    "\n",
    "    if smote_flag:\n",
    "        y_neg_cnt = (y_train == 0).sum()\n",
    "        smote = SMOTE(sampling_strategy={0: y_neg_cnt, 1: int(y_neg_cnt/10)})\n",
    "        X_train_smo, y_train_smo = smote.fit_sample(X_train_scaled, y_train)\n",
    "        model.fit(X_train_smo, y_train_smo)\n",
    "    else:\n",
    "        model.fit(X_train_scaled, y_train)\n",
    "\n",
    "    fdr_scores.loc[i, 'train fdr'] = get_fdr(model, X_train_scaled, y_train)\n",
    "    fdr_scores.loc[i, 'test fdr'] = get_fdr(model, X_test_scaled, y_test)\n",
    "    fdr_scores.loc[i, 'oot fdr'] = get_fdr(model, X_OOT_scaled, y_OOT)\n",
    "\n",
    "print(fdr_scores.mean())"
   ]
  },
  {
   "cell_type": "code",
   "execution_count": 17,
   "metadata": {},
   "outputs": [
    {
     "data": {
      "text/html": [
       "<div>\n",
       "<style scoped>\n",
       "    .dataframe tbody tr th:only-of-type {\n",
       "        vertical-align: middle;\n",
       "    }\n",
       "\n",
       "    .dataframe tbody tr th {\n",
       "        vertical-align: top;\n",
       "    }\n",
       "\n",
       "    .dataframe thead th {\n",
       "        text-align: right;\n",
       "    }\n",
       "</style>\n",
       "<table border=\"1\" class=\"dataframe\">\n",
       "  <thead>\n",
       "    <tr style=\"text-align: right;\">\n",
       "      <th></th>\n",
       "      <th>train fdr</th>\n",
       "      <th>test fdr</th>\n",
       "      <th>oot fdr</th>\n",
       "    </tr>\n",
       "  </thead>\n",
       "  <tbody>\n",
       "    <tr>\n",
       "      <th>0</th>\n",
       "      <td>0.609504</td>\n",
       "      <td>0.714286</td>\n",
       "      <td>0.435754</td>\n",
       "    </tr>\n",
       "    <tr>\n",
       "      <th>1</th>\n",
       "      <td>0.605809</td>\n",
       "      <td>0.709677</td>\n",
       "      <td>0.441341</td>\n",
       "    </tr>\n",
       "    <tr>\n",
       "      <th>2</th>\n",
       "      <td>0.650104</td>\n",
       "      <td>0.718894</td>\n",
       "      <td>0.536313</td>\n",
       "    </tr>\n",
       "    <tr>\n",
       "      <th>3</th>\n",
       "      <td>0.619342</td>\n",
       "      <td>0.700461</td>\n",
       "      <td>0.430168</td>\n",
       "    </tr>\n",
       "    <tr>\n",
       "      <th>4</th>\n",
       "      <td>0.629938</td>\n",
       "      <td>0.732719</td>\n",
       "      <td>0.435754</td>\n",
       "    </tr>\n",
       "    <tr>\n",
       "      <th>5</th>\n",
       "      <td>0.638037</td>\n",
       "      <td>0.686636</td>\n",
       "      <td>0.536313</td>\n",
       "    </tr>\n",
       "    <tr>\n",
       "      <th>6</th>\n",
       "      <td>0.630802</td>\n",
       "      <td>0.728111</td>\n",
       "      <td>0.24581</td>\n",
       "    </tr>\n",
       "    <tr>\n",
       "      <th>7</th>\n",
       "      <td>0.586134</td>\n",
       "      <td>0.677419</td>\n",
       "      <td>0.351955</td>\n",
       "    </tr>\n",
       "    <tr>\n",
       "      <th>8</th>\n",
       "      <td>0.60251</td>\n",
       "      <td>0.668203</td>\n",
       "      <td>0.418994</td>\n",
       "    </tr>\n",
       "    <tr>\n",
       "      <th>9</th>\n",
       "      <td>0.654506</td>\n",
       "      <td>0.695853</td>\n",
       "      <td>0.413408</td>\n",
       "    </tr>\n",
       "  </tbody>\n",
       "</table>\n",
       "</div>"
      ],
      "text/plain": [
       "  train fdr  test fdr   oot fdr\n",
       "0  0.609504  0.714286  0.435754\n",
       "1  0.605809  0.709677  0.441341\n",
       "2  0.650104  0.718894  0.536313\n",
       "3  0.619342  0.700461  0.430168\n",
       "4  0.629938  0.732719  0.435754\n",
       "5  0.638037  0.686636  0.536313\n",
       "6  0.630802  0.728111   0.24581\n",
       "7  0.586134  0.677419  0.351955\n",
       "8   0.60251  0.668203  0.418994\n",
       "9  0.654506  0.695853  0.413408"
      ]
     },
     "execution_count": 17,
     "metadata": {},
     "output_type": "execute_result"
    }
   ],
   "source": [
    "fdr_scores"
   ]
  },
  {
   "cell_type": "code",
   "execution_count": null,
   "metadata": {},
   "outputs": [],
   "source": []
  }
 ],
 "metadata": {
  "kernelspec": {
   "display_name": "Python 3",
   "language": "python",
   "name": "python3"
  },
  "language_info": {
   "codemirror_mode": {
    "name": "ipython",
    "version": 3
   },
   "file_extension": ".py",
   "mimetype": "text/x-python",
   "name": "python",
   "nbconvert_exporter": "python",
   "pygments_lexer": "ipython3",
   "version": "3.8.2"
  },
  "toc": {
   "base_numbering": 1,
   "nav_menu": {},
   "number_sections": true,
   "sideBar": true,
   "skip_h1_title": false,
   "title_cell": "Table of Contents",
   "title_sidebar": "Contents",
   "toc_cell": false,
   "toc_position": {},
   "toc_section_display": true,
   "toc_window_display": false
  },
  "varInspector": {
   "cols": {
    "lenName": 16,
    "lenType": 16,
    "lenVar": 40
   },
   "kernels_config": {
    "python": {
     "delete_cmd_postfix": "",
     "delete_cmd_prefix": "del ",
     "library": "var_list.py",
     "varRefreshCmd": "print(var_dic_list())"
    },
    "r": {
     "delete_cmd_postfix": ") ",
     "delete_cmd_prefix": "rm(",
     "library": "var_list.r",
     "varRefreshCmd": "cat(var_dic_list()) "
    }
   },
   "types_to_exclude": [
    "module",
    "function",
    "builtin_function_or_method",
    "instance",
    "_Feature"
   ],
   "window_display": false
  }
 },
 "nbformat": 4,
 "nbformat_minor": 4
}
